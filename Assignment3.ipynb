{
 "cells": [
  {
   "cell_type": "code",
   "execution_count": null,
   "id": "fa596365",
   "metadata": {},
   "outputs": [],
   "source": []
  },
  {
   "cell_type": "code",
   "execution_count": null,
   "id": "7aea8936",
   "metadata": {},
   "outputs": [],
   "source": [
    "1. What is the concept of an abstract superclass?\n",
    "\n"
   ]
  },
  {
   "cell_type": "code",
   "execution_count": null,
   "id": "69e0a93f",
   "metadata": {},
   "outputs": [],
   "source": [
    " An abstract superclass is a class that is designed to be inherited by other classes, but not instantiated directly. It serves as a blueprint or template for its subclasses, providing common attributes and methods that can be shared among them. An abstract superclass often defines abstract methods, which are methods that are meant to be overridden by its subclasses. The purpose of an abstract superclass is to provide a common interface and shared functionality for its subclasses.\n",
    "\n"
   ]
  },
  {
   "cell_type": "code",
   "execution_count": null,
   "id": "34be92e4",
   "metadata": {},
   "outputs": [],
   "source": []
  },
  {
   "cell_type": "code",
   "execution_count": null,
   "id": "7cb038c2",
   "metadata": {},
   "outputs": [],
   "source": [
    "2. What happens when a class statement&#39;s top level contains a basic assignment statement?\n",
    "\n"
   ]
  },
  {
   "cell_type": "code",
   "execution_count": null,
   "id": "b267d3d4",
   "metadata": {},
   "outputs": [],
   "source": [
    " When a class statement's top level contains a basic assignment statement, it creates a class attribute. This means that the assigned value becomes an attribute of the class itself, rather than an instance attribute. Class attributes are shared among all instances of the class. They can be accessed using the class name or any instance of the class. Modifying a class attribute will affect all instances of the class.\n"
   ]
  },
  {
   "cell_type": "code",
   "execution_count": null,
   "id": "cbdc0d11",
   "metadata": {},
   "outputs": [],
   "source": []
  },
  {
   "cell_type": "code",
   "execution_count": null,
   "id": "e298e481",
   "metadata": {},
   "outputs": [],
   "source": [
    "3. Why does a class need to manually call a superclass&#39;s __init__ method?\n",
    "\n"
   ]
  },
  {
   "cell_type": "code",
   "execution_count": null,
   "id": "4db3cb7e",
   "metadata": {},
   "outputs": [],
   "source": [
    " In Python, a class needs to manually call a superclass's `__init__` method when it wants to initialize the superclass's attributes or perform any additional setup defined in the superclass's `__init__` method. This is typically done using the `super()` function. By calling the superclass's `__init__` method, the subclass can inherit and extend the initialization behavior of the superclass, ensuring that all necessary initialization steps are performed.\n"
   ]
  },
  {
   "cell_type": "code",
   "execution_count": null,
   "id": "0cdad7e9",
   "metadata": {},
   "outputs": [],
   "source": []
  },
  {
   "cell_type": "code",
   "execution_count": null,
   "id": "e5c98084",
   "metadata": {},
   "outputs": [],
   "source": [
    "4. How can you augment, instead of completely replacing, an inherited method?\n",
    "\n"
   ]
  },
  {
   "cell_type": "code",
   "execution_count": null,
   "id": "86fca2c8",
   "metadata": {},
   "outputs": [],
   "source": [
    " To augment an inherited method without completely replacing it, the subclass can override the inherited method by defining a method with the same name in the subclass. Inside the subclass method, the subclass can call the superclass's method using the `super()` function. This allows the subclass to extend or modify the behavior of the inherited method while still leveraging the functionality provided by the superclass. By calling `super().method_name()`, the subclass can invoke the superclass's method and then add additional functionality before or after the superclass's method is executed.\n"
   ]
  },
  {
   "cell_type": "code",
   "execution_count": null,
   "id": "eff1653e",
   "metadata": {},
   "outputs": [],
   "source": []
  },
  {
   "cell_type": "code",
   "execution_count": null,
   "id": "8cb20ac7",
   "metadata": {},
   "outputs": [],
   "source": [
    "5. How is the local scope of a class different from that of a function?"
   ]
  },
  {
   "cell_type": "code",
   "execution_count": null,
   "id": "5bb2d637",
   "metadata": {},
   "outputs": [],
   "source": [
    " The local scope of a class and a function are different in terms of accessibility and visibility. \n",
    "\n",
    "In a class, the local scope refers to the scope within methods, attributes, and other definitions within the class. The class's attributes and methods are accessible within the class itself using the `self` keyword. However, they are not directly accessible outside of the class unless they are specifically exposed or accessed through an instance of the class. Class attributes and methods are typically accessed using the dot notation with the instance or class name.\n",
    "\n",
    "In a function, the local scope refers to the scope within the function itself. Variables and other definitions within the function are accessible within the function's block. They are not accessible outside of the function unless they are returned or used in some other way to pass information outside of the function. Function local variables are not accessible from outside the function's scope."
   ]
  },
  {
   "cell_type": "code",
   "execution_count": null,
   "id": "e21eba8e",
   "metadata": {},
   "outputs": [],
   "source": []
  },
  {
   "cell_type": "code",
   "execution_count": null,
   "id": "df41e310",
   "metadata": {},
   "outputs": [],
   "source": []
  },
  {
   "cell_type": "code",
   "execution_count": null,
   "id": "dbc28fb4",
   "metadata": {},
   "outputs": [],
   "source": []
  },
  {
   "cell_type": "code",
   "execution_count": null,
   "id": "2b792509",
   "metadata": {},
   "outputs": [],
   "source": []
  },
  {
   "cell_type": "code",
   "execution_count": null,
   "id": "7dbf26f7",
   "metadata": {},
   "outputs": [],
   "source": []
  },
  {
   "cell_type": "code",
   "execution_count": null,
   "id": "879a37c7",
   "metadata": {},
   "outputs": [],
   "source": []
  },
  {
   "cell_type": "code",
   "execution_count": null,
   "id": "9a972b6b",
   "metadata": {},
   "outputs": [],
   "source": []
  },
  {
   "cell_type": "code",
   "execution_count": null,
   "id": "6a2a114c",
   "metadata": {},
   "outputs": [],
   "source": []
  },
  {
   "cell_type": "code",
   "execution_count": null,
   "id": "0fc78cdb",
   "metadata": {},
   "outputs": [],
   "source": []
  },
  {
   "cell_type": "code",
   "execution_count": null,
   "id": "74ebc629",
   "metadata": {},
   "outputs": [],
   "source": []
  },
  {
   "cell_type": "code",
   "execution_count": null,
   "id": "4601c5a9",
   "metadata": {},
   "outputs": [],
   "source": []
  },
  {
   "cell_type": "code",
   "execution_count": null,
   "id": "3e34c6fc",
   "metadata": {},
   "outputs": [],
   "source": []
  },
  {
   "cell_type": "code",
   "execution_count": null,
   "id": "c843ac28",
   "metadata": {},
   "outputs": [],
   "source": []
  },
  {
   "cell_type": "code",
   "execution_count": null,
   "id": "d490b478",
   "metadata": {},
   "outputs": [],
   "source": []
  },
  {
   "cell_type": "code",
   "execution_count": null,
   "id": "78605669",
   "metadata": {},
   "outputs": [],
   "source": []
  },
  {
   "cell_type": "code",
   "execution_count": null,
   "id": "f8502b85",
   "metadata": {},
   "outputs": [],
   "source": []
  },
  {
   "cell_type": "code",
   "execution_count": null,
   "id": "586cf0e9",
   "metadata": {},
   "outputs": [],
   "source": []
  }
 ],
 "metadata": {
  "kernelspec": {
   "display_name": "Python 3 (ipykernel)",
   "language": "python",
   "name": "python3"
  },
  "language_info": {
   "codemirror_mode": {
    "name": "ipython",
    "version": 3
   },
   "file_extension": ".py",
   "mimetype": "text/x-python",
   "name": "python",
   "nbconvert_exporter": "python",
   "pygments_lexer": "ipython3",
   "version": "3.10.9"
  }
 },
 "nbformat": 4,
 "nbformat_minor": 5
}
