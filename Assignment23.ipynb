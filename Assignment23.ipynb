{
 "cells": [
  {
   "cell_type": "code",
   "execution_count": null,
   "id": "4aeaa8d6",
   "metadata": {},
   "outputs": [],
   "source": []
  },
  {
   "cell_type": "code",
   "execution_count": null,
   "id": "cd9a2333",
   "metadata": {},
   "outputs": [],
   "source": [
    "Q1. If you have any, what are your choices for increasing the comparison between different figures on\n",
    "the same graph?\n",
    "\n"
   ]
  },
  {
   "cell_type": "code",
   "execution_count": null,
   "id": "b92b4686",
   "metadata": {},
   "outputs": [],
   "source": [
    "  To increase the comparison between different figures on the same graph, you have several options:\n",
    "\n",
    "- Adjust the scale of the axes: You can manually set the minimum and maximum values of the axes to ensure that the data points of interest are well-represented and visible.\n",
    "- Use different colors or markers: Assign different colors or markers to the data points or lines to visually distinguish between them.\n",
    "- Add annotations or labels: Label the data points or lines with relevant information to make it easier to identify and compare them.\n",
    "- Utilize multiple subplots: Instead of plotting all figures on a single graph, you can create multiple subplots, each dedicated to a specific figure. This allows for better visual separation and comparison.\n",
    "\n"
   ]
  },
  {
   "cell_type": "code",
   "execution_count": null,
   "id": "597ab74a",
   "metadata": {},
   "outputs": [],
   "source": []
  },
  {
   "cell_type": "code",
   "execution_count": null,
   "id": "83855afb",
   "metadata": {},
   "outputs": [],
   "source": [
    "Q2. Can you explain the benefit of compound interest over a higher rate of interest that does not\n",
    "compound after reading this chapter?\n",
    "\n"
   ]
  },
  {
   "cell_type": "code",
   "execution_count": null,
   "id": "a3f5f4f6",
   "metadata": {},
   "outputs": [],
   "source": [
    " Compound interest refers to the process of earning interest on both the initial principal amount and the accumulated interest from previous periods. The benefit of compound interest over a higher rate of interest that does not compound is that it allows for exponential growth of the investment or loan. With compound interest, the interest earned in each period is added to the principal, leading to a larger base for calculating future interest. This compounding effect can result in significantly higher returns or larger loan balances over time compared to a simple interest calculation.\n"
   ]
  },
  {
   "cell_type": "code",
   "execution_count": null,
   "id": "127dd693",
   "metadata": {},
   "outputs": [],
   "source": []
  },
  {
   "cell_type": "code",
   "execution_count": null,
   "id": "7a0e527e",
   "metadata": {},
   "outputs": [],
   "source": [
    "Q3. What is a histogram, exactly? Name a numpy method for creating such a graph.\n",
    "\n"
   ]
  },
  {
   "cell_type": "code",
   "execution_count": null,
   "id": "2095a9bc",
   "metadata": {},
   "outputs": [],
   "source": [
    "  A histogram is a graphical representation of the distribution of a dataset. It consists of a set of bins, where each bin represents a specific range of values, and the height of each bin represents the frequency or count of data points falling within that range. In numpy, you can create a histogram using the `numpy.histogram()` method.\n"
   ]
  },
  {
   "cell_type": "code",
   "execution_count": null,
   "id": "2c9c8b91",
   "metadata": {},
   "outputs": [],
   "source": []
  },
  {
   "cell_type": "code",
   "execution_count": null,
   "id": "08f35e90",
   "metadata": {},
   "outputs": [],
   "source": [
    "Q4. If necessary, how do you change the aspect ratios between the X and Y axes?\n",
    "\n"
   ]
  },
  {
   "cell_type": "code",
   "execution_count": null,
   "id": "88f6bb11",
   "metadata": {},
   "outputs": [],
   "source": [
    "  To change the aspect ratios between the X and Y axes, you can use the `matplotlib.pyplot.axis()` function with the `'equal'` parameter. Setting the aspect ratio to `'equal'` ensures that the X and Y axes have the same scale and are represented in the same units.\n"
   ]
  },
  {
   "cell_type": "code",
   "execution_count": null,
   "id": "6c5aaa4d",
   "metadata": {},
   "outputs": [],
   "source": []
  },
  {
   "cell_type": "code",
   "execution_count": null,
   "id": "561ab7b9",
   "metadata": {},
   "outputs": [],
   "source": [
    "Q5. Compare and contrast the three types of array multiplication between two numpy arrays: dot\n",
    "product, outer product, and regular multiplication of two numpy arrays.\n",
    "\n"
   ]
  },
  {
   "cell_type": "code",
   "execution_count": null,
   "id": "b781b5bd",
   "metadata": {},
   "outputs": [],
   "source": [
    " The three types of array multiplication between two numpy arrays are:\n",
    "\n",
    "- Dot product: The dot product of two arrays is calculated using the `numpy.dot()` function or the `@` operator. It performs matrix multiplication for 2D arrays or generalizes to higher dimensions. The result is a scalar value or a lower-dimensional array, depending on the dimensions of the input arrays.\n",
    "- Outer product: The outer product of two arrays is calculated using the `numpy.outer()` function. It computes the multiplication of all possible pairs of elements between the two input arrays and returns a new array with the shape determined by the outer product rule.\n",
    "- Regular multiplication: Regular multiplication of two numpy arrays is performed using the `*` operator. It performs element-wise multiplication between the corresponding elements of the arrays, assuming they have compatible shapes. The resulting array has the same shape as the input arrays.\n"
   ]
  },
  {
   "cell_type": "code",
   "execution_count": null,
   "id": "e8ede898",
   "metadata": {},
   "outputs": [],
   "source": []
  },
  {
   "cell_type": "code",
   "execution_count": null,
   "id": "44f426b5",
   "metadata": {},
   "outputs": [],
   "source": [
    "Q6. Before you buy a home, which numpy function will you use to measure your monthly mortgage\n",
    "payment?\n",
    "\n"
   ]
  },
  {
   "cell_type": "code",
   "execution_count": null,
   "id": "0868b669",
   "metadata": {},
   "outputs": [],
   "source": [
    "  Before buying a home, you can use the `numpy.pmt()` function to measure your monthly mortgage payment. This function calculates the fixed periodic payment required to repay a loan with a specified interest rate, loan amount, and duration.\n"
   ]
  },
  {
   "cell_type": "code",
   "execution_count": null,
   "id": "ebe79d24",
   "metadata": {},
   "outputs": [],
   "source": []
  },
  {
   "cell_type": "code",
   "execution_count": null,
   "id": "e2fb93c0",
   "metadata": {},
   "outputs": [],
   "source": [
    "Q7. Can string data be stored in numpy arrays? If so, list at least one restriction that applies to this\n",
    "data."
   ]
  },
  {
   "cell_type": "code",
   "execution_count": null,
   "id": "3474f6eb",
   "metadata": {},
   "outputs": [],
   "source": [
    "  Yes, string data can be stored in numpy arrays, but there is a restriction that all elements in a numpy array must have the same length. This means that if you have an array to store strings, all strings must have the same length, and any shorter strings will be padded with spaces or null characters to match the maximum length. This restriction is imposed by the underlying memory layout of numpy arrays, which requires elements of fixed size for efficient storage and retrieval."
   ]
  },
  {
   "cell_type": "code",
   "execution_count": null,
   "id": "bac71630",
   "metadata": {},
   "outputs": [],
   "source": []
  },
  {
   "cell_type": "code",
   "execution_count": null,
   "id": "078606cc",
   "metadata": {},
   "outputs": [],
   "source": []
  },
  {
   "cell_type": "code",
   "execution_count": null,
   "id": "ee59b6b4",
   "metadata": {},
   "outputs": [],
   "source": []
  },
  {
   "cell_type": "code",
   "execution_count": null,
   "id": "d0ce7559",
   "metadata": {},
   "outputs": [],
   "source": []
  },
  {
   "cell_type": "code",
   "execution_count": null,
   "id": "902c7064",
   "metadata": {},
   "outputs": [],
   "source": []
  },
  {
   "cell_type": "code",
   "execution_count": null,
   "id": "1418a49d",
   "metadata": {},
   "outputs": [],
   "source": []
  },
  {
   "cell_type": "code",
   "execution_count": null,
   "id": "5ecc7ee3",
   "metadata": {},
   "outputs": [],
   "source": []
  },
  {
   "cell_type": "code",
   "execution_count": null,
   "id": "e96c91b5",
   "metadata": {},
   "outputs": [],
   "source": []
  },
  {
   "cell_type": "code",
   "execution_count": null,
   "id": "ffb08b27",
   "metadata": {},
   "outputs": [],
   "source": []
  },
  {
   "cell_type": "code",
   "execution_count": null,
   "id": "29dc5d8c",
   "metadata": {},
   "outputs": [],
   "source": []
  },
  {
   "cell_type": "code",
   "execution_count": null,
   "id": "be23e028",
   "metadata": {},
   "outputs": [],
   "source": []
  },
  {
   "cell_type": "code",
   "execution_count": null,
   "id": "65c31dd9",
   "metadata": {},
   "outputs": [],
   "source": []
  }
 ],
 "metadata": {
  "kernelspec": {
   "display_name": "Python 3 (ipykernel)",
   "language": "python",
   "name": "python3"
  },
  "language_info": {
   "codemirror_mode": {
    "name": "ipython",
    "version": 3
   },
   "file_extension": ".py",
   "mimetype": "text/x-python",
   "name": "python",
   "nbconvert_exporter": "python",
   "pygments_lexer": "ipython3",
   "version": "3.10.9"
  }
 },
 "nbformat": 4,
 "nbformat_minor": 5
}
