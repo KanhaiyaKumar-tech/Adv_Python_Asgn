{
 "cells": [
  {
   "cell_type": "code",
   "execution_count": null,
   "id": "6b20e71f",
   "metadata": {},
   "outputs": [],
   "source": []
  },
  {
   "cell_type": "code",
   "execution_count": null,
   "id": "1fe604a0",
   "metadata": {},
   "outputs": [],
   "source": [
    "Q1. Can you create a programme or function that employs both positive and negative indexing? Is\n",
    "there any repercussion if you do so?\n",
    "\n"
   ]
  },
  {
   "cell_type": "code",
   "execution_count": null,
   "id": "e741df6f",
   "metadata": {},
   "outputs": [],
   "source": [
    "  Yes, you can create a program or function that employs both positive and negative indexing in Python. Positive indexing starts from 0 for the first element and increases by 1, while negative indexing starts from -1 for the last element and decreases by 1. Both types of indexing allow you to access elements in a sequence like a list or a string.\n",
    "\n",
    "However, there can be repercussions if you mix positive and negative indexing in certain operations. For example, if you use both positive and negative indexes in a single slice operation, it can result in unexpected or inconsistent behavior. It's important to use indexing and slicing consistently to avoid confusion and maintain code readability.\n",
    "\n",
    "  \n",
    " "
   ]
  },
  {
   "cell_type": "code",
   "execution_count": null,
   "id": "878a413f",
   "metadata": {},
   "outputs": [],
   "source": []
  },
  {
   "cell_type": "code",
   "execution_count": null,
   "id": "4ea7e4f5",
   "metadata": {},
   "outputs": [],
   "source": [
    "Q2. What is the most effective way of starting with 1,000 elements in a Python list? Assume that all\n",
    "elements should be set to the same value.\n",
    "\n"
   ]
  },
  {
   "cell_type": "code",
   "execution_count": null,
   "id": "b91484bf",
   "metadata": {},
   "outputs": [],
   "source": [
    "\n",
    "  The most effective way to start with 1,000 elements in a Python list, all set to the same value, is to use list comprehension. List comprehension provides a concise and efficient way to generate a list with a specific value repeated multiple times. Here's an example:\n",
    "\n",
    "  "
   ]
  },
  {
   "cell_type": "code",
   "execution_count": 2,
   "id": "30672977",
   "metadata": {},
   "outputs": [],
   "source": [
    "value = 0\n",
    "my_list = [value] * 1000\n",
    " "
   ]
  },
  {
   "cell_type": "code",
   "execution_count": null,
   "id": "141770a1",
   "metadata": {},
   "outputs": [],
   "source": [
    "Q3. How do you slice a list to get any other part while missing the rest? (For example, suppose you\n",
    "want to make a new list with the elements first, third, fifth, seventh, and so on.)\n",
    "\n"
   ]
  },
  {
   "cell_type": "code",
   "execution_count": null,
   "id": "01bef51c",
   "metadata": {},
   "outputs": [],
   "source": [
    " To create a new list with specific elements from an existing list while skipping the rest, you can use list slicing with a step size. You can specify the start and end indexes of the slice and use a step size of 2 to skip every other element. Here's an example:\n",
    "\n"
   ]
  },
  {
   "cell_type": "code",
   "execution_count": 3,
   "id": "ae6bb5ad",
   "metadata": {},
   "outputs": [],
   "source": [
    "\n",
    "original_list = [1, 2, 3, 4, 5, 6, 7, 8, 9, 10]\n",
    "new_list = original_list[::2]\n"
   ]
  },
  {
   "cell_type": "code",
   "execution_count": null,
   "id": "d3b2e397",
   "metadata": {},
   "outputs": [],
   "source": [
    "Q4. Explain the distinctions between indexing and slicing.\n",
    "\n"
   ]
  },
  {
   "cell_type": "code",
   "execution_count": null,
   "id": "bcc7a62c",
   "metadata": {},
   "outputs": [],
   "source": [
    "The distinctions between indexing and slicing are as follows:\n",
    "\n",
    "- Indexing refers to accessing a single element in a sequence, such as retrieving a specific element at a given position using its index. Indexing is done using square brackets `[]` with the index value inside. Indexing starts from 0 for the first element, and negative indexing starts from -1 for the last element.\n",
    "\n",
    "- Slicing, on the other hand, refers to extracting a portion or a subsequence from a sequence. It allows you to create a new sequence containing a range of elements. Slicing is done using the colon `:` notation within the square brackets `[]`. It can include the start index, end index, and step size, allowing you to specify the desired subset of elements.\n",
    "\n",
    "In summary, indexing retrieves a single element, while slicing creates a new sequence by extracting a range of elements.\n"
   ]
  },
  {
   "cell_type": "code",
   "execution_count": null,
   "id": "b62516c8",
   "metadata": {},
   "outputs": [],
   "source": []
  },
  {
   "cell_type": "code",
   "execution_count": null,
   "id": "04694fec",
   "metadata": {},
   "outputs": [],
   "source": [
    "Q5. What happens if one of the slicing expression&#39;s indexes is out of range?\n",
    "\n"
   ]
  },
  {
   "cell_type": "code",
   "execution_count": null,
   "id": "fb6b7fd1",
   "metadata": {},
   "outputs": [],
   "source": [
    " If one of the indexes in a slicing expression is out of range, i.e., it exceeds the boundaries of the list, Python handles it gracefully. It does not raise an error but simply returns the valid portion of the slice up to the available elements. For example:\n",
    " \n"
   ]
  },
  {
   "cell_type": "code",
   "execution_count": 4,
   "id": "d8ec6477",
   "metadata": {},
   "outputs": [
    {
     "name": "stdout",
     "output_type": "stream",
     "text": [
      "[3, 4, 5]\n"
     ]
    }
   ],
   "source": [
    "my_list = [1, 2, 3, 4, 5]\n",
    "sliced_list = my_list[2:10]\n",
    "print(sliced_list)\n",
    " \n"
   ]
  },
  {
   "cell_type": "code",
   "execution_count": null,
   "id": "5fad51a3",
   "metadata": {},
   "outputs": [],
   "source": [
    "Q6. If you pass a list to a function, and if you want the function to be able to change the values of the\n",
    "list—so that the list is different after the function returns—what action should you avoid?\n",
    "\n"
   ]
  },
  {
   "cell_type": "code",
   "execution_count": null,
   "id": "68c3dd1f",
   "metadata": {},
   "outputs": [],
   "source": [
    "If you pass a list to a function and you want the function to be able to change the values of the list, you should avoid reassigning the list parameter to a new list object. Instead, you should modify the list in-place. Python lists are mutable objects, meaning their values can be changed directly.\n"
   ]
  },
  {
   "cell_type": "code",
   "execution_count": null,
   "id": "22907eb4",
   "metadata": {},
   "outputs": [],
   "source": [
    "\n",
    "#Avoid doing this:\n",
    "\n",
    "def modify_list(lst):\n",
    "    lst = [1, 2, 3]  # Avoid reassigning lst to a new list object\n",
    "\n",
    "\n",
    "#Instead, modify the list in-place:\n",
    "\n",
    "def modify_list(lst):\n",
    "    lst.append(4)  # Modifying the list in-place\n",
    "\n",
    "\n",
    "# By directly modifying the list object passed as an argument, the changes will be reflected outside the function as well.\n"
   ]
  },
  {
   "cell_type": "code",
   "execution_count": null,
   "id": "ef58a47f",
   "metadata": {},
   "outputs": [],
   "source": [
    "Q7. What is the concept of an unbalanced matrix?\n"
   ]
  },
  {
   "cell_type": "code",
   "execution_count": null,
   "id": "c1791a63",
   "metadata": {},
   "outputs": [],
   "source": [
    "\n",
    "   The concept of an unbalanced matrix typically refers to a matrix where the number of elements or sub-elements in each row is not equal. In a balanced matrix, all rows have the same number of elements, while in an unbalanced matrix, rows may have different lengths.\n",
    "\n",
    "Unbalanced matrices can arise in various scenarios, such as when working with sparse data or irregularly shaped data structures. They can introduce complexity when performing operations that assume a balanced matrix structure, such as matrix multiplication or indexing.\n",
    "\n"
   ]
  },
  {
   "cell_type": "code",
   "execution_count": null,
   "id": "d8d3ca85",
   "metadata": {},
   "outputs": [],
   "source": []
  },
  {
   "cell_type": "code",
   "execution_count": null,
   "id": "e37027b3",
   "metadata": {},
   "outputs": [],
   "source": [
    "\n",
    "Q8. Why is it necessary to use either list comprehension or a loop to create arbitrarily large matrices?"
   ]
  },
  {
   "cell_type": "code",
   "execution_count": null,
   "id": "3749a9ec",
   "metadata": {},
   "outputs": [],
   "source": [
    " List comprehension or loops are necessary to create arbitrarily large matrices because they allow for dynamic generation of matrix elements based on specified patterns or"
   ]
  },
  {
   "cell_type": "code",
   "execution_count": null,
   "id": "ff8a78a3",
   "metadata": {},
   "outputs": [],
   "source": []
  },
  {
   "cell_type": "code",
   "execution_count": null,
   "id": "ce086ecf",
   "metadata": {},
   "outputs": [],
   "source": []
  },
  {
   "cell_type": "code",
   "execution_count": null,
   "id": "58b4624a",
   "metadata": {},
   "outputs": [],
   "source": []
  },
  {
   "cell_type": "code",
   "execution_count": null,
   "id": "f408a1be",
   "metadata": {},
   "outputs": [],
   "source": []
  },
  {
   "cell_type": "code",
   "execution_count": null,
   "id": "2d38b902",
   "metadata": {},
   "outputs": [],
   "source": []
  },
  {
   "cell_type": "code",
   "execution_count": null,
   "id": "0a6ded21",
   "metadata": {},
   "outputs": [],
   "source": []
  },
  {
   "cell_type": "code",
   "execution_count": null,
   "id": "2eea8241",
   "metadata": {},
   "outputs": [],
   "source": []
  },
  {
   "cell_type": "code",
   "execution_count": null,
   "id": "f1671ae5",
   "metadata": {},
   "outputs": [],
   "source": []
  },
  {
   "cell_type": "code",
   "execution_count": null,
   "id": "d0757dbf",
   "metadata": {},
   "outputs": [],
   "source": []
  },
  {
   "cell_type": "code",
   "execution_count": null,
   "id": "7bbd537e",
   "metadata": {},
   "outputs": [],
   "source": []
  },
  {
   "cell_type": "code",
   "execution_count": null,
   "id": "b7a604ac",
   "metadata": {},
   "outputs": [],
   "source": []
  },
  {
   "cell_type": "code",
   "execution_count": null,
   "id": "c101b8c3",
   "metadata": {},
   "outputs": [],
   "source": []
  },
  {
   "cell_type": "code",
   "execution_count": null,
   "id": "d5bb98b5",
   "metadata": {},
   "outputs": [],
   "source": []
  },
  {
   "cell_type": "code",
   "execution_count": null,
   "id": "8a67c01e",
   "metadata": {},
   "outputs": [],
   "source": []
  },
  {
   "cell_type": "code",
   "execution_count": null,
   "id": "dad3b525",
   "metadata": {},
   "outputs": [],
   "source": []
  }
 ],
 "metadata": {
  "kernelspec": {
   "display_name": "Python 3 (ipykernel)",
   "language": "python",
   "name": "python3"
  },
  "language_info": {
   "codemirror_mode": {
    "name": "ipython",
    "version": 3
   },
   "file_extension": ".py",
   "mimetype": "text/x-python",
   "name": "python",
   "nbconvert_exporter": "python",
   "pygments_lexer": "ipython3",
   "version": "3.10.9"
  }
 },
 "nbformat": 4,
 "nbformat_minor": 5
}
