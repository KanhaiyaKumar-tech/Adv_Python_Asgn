{
 "cells": [
  {
   "cell_type": "code",
   "execution_count": null,
   "id": "b33418b2",
   "metadata": {},
   "outputs": [],
   "source": []
  },
  {
   "cell_type": "code",
   "execution_count": null,
   "id": "d542cce9",
   "metadata": {},
   "outputs": [],
   "source": [
    "Q1. Describe three applications for exception processing.\n",
    "\n",
    " "
   ]
  },
  {
   "cell_type": "code",
   "execution_count": null,
   "id": "6e659c28",
   "metadata": {},
   "outputs": [],
   "source": [
    "Error handling: Exception processing can be used to handle errors that occur during the execution of a script. This can help to prevent the script from crashing and to provide a more graceful way of handling errors.\n",
    "    \n",
    "Debugging: Exception processing can also be used to debug scripts. By catching exceptions, you can get more information about the error that occurred, which can help you to track down the source of the problem.\n",
    "    \n",
    "Control flow: Exception processing can also be used to control the flow of a script. For example, you can use exceptions to skip certain sections of code or to break out of loops."
   ]
  },
  {
   "cell_type": "code",
   "execution_count": null,
   "id": "70619607",
   "metadata": {},
   "outputs": [],
   "source": []
  },
  {
   "cell_type": "code",
   "execution_count": null,
   "id": "97cbf91a",
   "metadata": {},
   "outputs": [],
   "source": [
    " \n",
    "Q2. What happens if you don&#39;t do something extra to treat an exception?\n",
    "\n",
    " "
   ]
  },
  {
   "cell_type": "code",
   "execution_count": null,
   "id": "d196353b",
   "metadata": {},
   "outputs": [],
   "source": [
    "If you don't do something extra to treat an exception, the default behavior is for the script to crash. This means that the script will stop executing and you will not get any output."
   ]
  },
  {
   "cell_type": "code",
   "execution_count": null,
   "id": "f99e5bbe",
   "metadata": {},
   "outputs": [],
   "source": []
  },
  {
   "cell_type": "code",
   "execution_count": null,
   "id": "3d60a504",
   "metadata": {},
   "outputs": [],
   "source": [
    " \n",
    "\n",
    "Q3. What are your options for recovering from an exception in your script?\n",
    "\n",
    " "
   ]
  },
  {
   "cell_type": "code",
   "execution_count": null,
   "id": "08b3b674",
   "metadata": {},
   "outputs": [],
   "source": [
    "There are a few different options for recovering from an exception in your script. You can:\n",
    "\n",
    "Handle the exception: This means that you can write code that will be executed when the exception occurs. This code can be used to print a message, to log the exception, or to take some other action to recover from the error.\n",
    "    \n",
    "Ignore the exception: This means that you can simply ignore the exception and continue executing the script. However, this is not always a good idea, as it can lead to further errors.\n",
    "    \n",
    "Reraise the exception: This means that you can re-raise the exception, which will cause the script to crash. However, this can be useful if you want to debug the exception or if you want to pass the exception to another function."
   ]
  },
  {
   "cell_type": "code",
   "execution_count": null,
   "id": "a79ad5c5",
   "metadata": {},
   "outputs": [],
   "source": []
  },
  {
   "cell_type": "code",
   "execution_count": null,
   "id": "e6ad0262",
   "metadata": {},
   "outputs": [],
   "source": [
    " \n",
    "\n",
    "Q4. Describe two methods for triggering exceptions in your script.\n"
   ]
  },
  {
   "cell_type": "code",
   "execution_count": null,
   "id": "0a0a2060",
   "metadata": {},
   "outputs": [],
   "source": [
    "There are two main methods for triggering exceptions in your script:\n",
    "\n",
    "Raising an exception: You can raise an exception explicitly by using the raise keyword. This can be useful if you want to simulate an error or if you want to pass an exception to another function.\n",
    "\n",
    "Triggering an exception: You can trigger an exception by doing something that is not allowed in Python. For example, you can try to divide by zero or you can try to access a nonexistent variable."
   ]
  },
  {
   "cell_type": "code",
   "execution_count": null,
   "id": "c283db2a",
   "metadata": {},
   "outputs": [],
   "source": []
  },
  {
   "cell_type": "code",
   "execution_count": null,
   "id": "62d2c706",
   "metadata": {},
   "outputs": [],
   "source": [
    "\n",
    "Q5. Identify two methods for specifying actions to be executed at termination time, regardless of\n",
    "whether or not an exception exists."
   ]
  },
  {
   "cell_type": "code",
   "execution_count": null,
   "id": "812ae3e2",
   "metadata": {},
   "outputs": [],
   "source": [
    "There are two main methods for specifying actions to be executed at termination time, regardless of whether or not an exception exists:\n",
    "\n",
    "The finally clause: The finally clause is a block of code that is executed after the try and except clauses. This means that the finally clause will be executed even if an exception occurs.\n",
    "    \n",
    "The atexit function: The atexit function is a function that is called when the Python interpreter is terminating. This means that the atexit function will be called even if an exception occurs."
   ]
  },
  {
   "cell_type": "code",
   "execution_count": null,
   "id": "ccc21968",
   "metadata": {},
   "outputs": [],
   "source": []
  },
  {
   "cell_type": "code",
   "execution_count": null,
   "id": "8fac2450",
   "metadata": {},
   "outputs": [],
   "source": []
  }
 ],
 "metadata": {
  "kernelspec": {
   "display_name": "Python 3 (ipykernel)",
   "language": "python",
   "name": "python3"
  },
  "language_info": {
   "codemirror_mode": {
    "name": "ipython",
    "version": 3
   },
   "file_extension": ".py",
   "mimetype": "text/x-python",
   "name": "python",
   "nbconvert_exporter": "python",
   "pygments_lexer": "ipython3",
   "version": "3.10.9"
  }
 },
 "nbformat": 4,
 "nbformat_minor": 5
}
