{
 "cells": [
  {
   "cell_type": "code",
   "execution_count": null,
   "id": "d1a97f27",
   "metadata": {},
   "outputs": [],
   "source": []
  },
  {
   "cell_type": "code",
   "execution_count": null,
   "id": "21fdafb3",
   "metadata": {},
   "outputs": [],
   "source": []
  },
  {
   "cell_type": "code",
   "execution_count": null,
   "id": "763e3c6a",
   "metadata": {},
   "outputs": [],
   "source": [
    "1. What are the new features added in Python 3.8 version?\n"
   ]
  },
  {
   "cell_type": "code",
   "execution_count": null,
   "id": "70859f1d",
   "metadata": {},
   "outputs": [],
   "source": [
    "Python 3.8 was released on October 14, 2019. It includes a number of new features and improvements, including:\n",
    "\n",
    "Match and search APIs: The match() and search() APIs were added to the re module. These APIs allow you to match and search for patterns in strings in a more efficient way.\n",
    "    \n",
    "f-strings: f-strings are a new way to format strings in Python. They are more concise and easier to read than traditional string formatting.\n",
    "    \n",
    "New data types: The dataclasses module was added to Python 3.8. This module provides a way to define data classes, which are a new type of data type that is similar to classes but with some additional features.\n",
    "    \n",
    "Async/await syntax: The async/await syntax was added to Python 3.8. This syntax allows you to write asynchronous code in a more concise and readable way.\n",
    "    \n",
    "Performance improvements: Python 3.8 includes a number of performance improvements, including faster garbage collection and improved memory management."
   ]
  },
  {
   "cell_type": "code",
   "execution_count": null,
   "id": "a0748e5b",
   "metadata": {},
   "outputs": [],
   "source": []
  },
  {
   "cell_type": "code",
   "execution_count": null,
   "id": "03504fde",
   "metadata": {},
   "outputs": [],
   "source": [
    "2. What is monkey patching in Python?\n"
   ]
  },
  {
   "cell_type": "code",
   "execution_count": null,
   "id": "8eb96cdc",
   "metadata": {},
   "outputs": [],
   "source": [
    "Monkey patching is a technique in Python that allows you to modify the behavior of a class or module at runtime. This can be done by assigning a new value to an attribute of the class or module, or by adding a new method to the class or module.\n",
    "\n",
    "Monkey patching can be a useful technique for debugging or for adding new features to a library. However, it is important to use monkey patching carefully, as it can cause unexpected behavior."
   ]
  },
  {
   "cell_type": "code",
   "execution_count": null,
   "id": "55acb125",
   "metadata": {},
   "outputs": [],
   "source": []
  },
  {
   "cell_type": "code",
   "execution_count": null,
   "id": "1b77b058",
   "metadata": {},
   "outputs": [],
   "source": [
    "3. What is the difference between a shallow copy and deep copy?\n"
   ]
  },
  {
   "cell_type": "code",
   "execution_count": null,
   "id": "8ba54ef8",
   "metadata": {},
   "outputs": [],
   "source": [
    "A shallow copy creates a new object that is a reference to the original object. This means that changes to the original object will be reflected in the copy.\n",
    "\n",
    "A deep copy creates a new object that is a copy of the original object. This means that changes to the original object will not be reflected in the copy.\n",
    "\n",
    "The difference between a shallow copy and a deep copy is important to understand when working with objects in Python. If you need to make changes to an object without affecting the original object, you should use a deep copy.\n",
    "\n"
   ]
  },
  {
   "cell_type": "code",
   "execution_count": null,
   "id": "121799be",
   "metadata": {},
   "outputs": [],
   "source": []
  },
  {
   "cell_type": "code",
   "execution_count": null,
   "id": "22a24f5b",
   "metadata": {},
   "outputs": [],
   "source": [
    "4. What is the maximum possible length of an identifier?\n"
   ]
  },
  {
   "cell_type": "code",
   "execution_count": null,
   "id": "8c59a046",
   "metadata": {},
   "outputs": [],
   "source": [
    "The maximum possible length of an identifier in Python is 79 characters. This is the maximum length of a string literal in Python.\n",
    " "
   ]
  },
  {
   "cell_type": "code",
   "execution_count": null,
   "id": "f02a0a23",
   "metadata": {},
   "outputs": [],
   "source": []
  },
  {
   "cell_type": "code",
   "execution_count": null,
   "id": "f8e65389",
   "metadata": {},
   "outputs": [],
   "source": [
    "5. What is generator comprehension?\n"
   ]
  },
  {
   "cell_type": "code",
   "execution_count": null,
   "id": "996b6acd",
   "metadata": {},
   "outputs": [],
   "source": [
    "Generator comprehension is a new feature in Python 3.5 that allows you to create generators using a concise and readable syntax. Generator comprehensions are similar to list comprehensions, but they do not actually create a list. Instead, they create a generator, which is an object that can be used to iterate over a sequence of values.\n",
    "\n",
    "Generator comprehensions can be used to create generators that are more efficient than list comprehensions. This is because generators do not actually create a list, which can save memory.\n",
    "\n"
   ]
  },
  {
   "cell_type": "code",
   "execution_count": null,
   "id": "af00ff82",
   "metadata": {},
   "outputs": [],
   "source": []
  },
  {
   "cell_type": "code",
   "execution_count": null,
   "id": "07e29404",
   "metadata": {},
   "outputs": [],
   "source": []
  },
  {
   "cell_type": "code",
   "execution_count": null,
   "id": "0f4ef171",
   "metadata": {},
   "outputs": [],
   "source": []
  },
  {
   "cell_type": "code",
   "execution_count": null,
   "id": "d1ba9ef2",
   "metadata": {},
   "outputs": [],
   "source": []
  },
  {
   "cell_type": "code",
   "execution_count": null,
   "id": "2f949854",
   "metadata": {},
   "outputs": [],
   "source": []
  },
  {
   "cell_type": "code",
   "execution_count": null,
   "id": "06c57118",
   "metadata": {},
   "outputs": [],
   "source": []
  },
  {
   "cell_type": "code",
   "execution_count": null,
   "id": "06298ca5",
   "metadata": {},
   "outputs": [],
   "source": []
  }
 ],
 "metadata": {
  "kernelspec": {
   "display_name": "Python 3 (ipykernel)",
   "language": "python",
   "name": "python3"
  },
  "language_info": {
   "codemirror_mode": {
    "name": "ipython",
    "version": 3
   },
   "file_extension": ".py",
   "mimetype": "text/x-python",
   "name": "python",
   "nbconvert_exporter": "python",
   "pygments_lexer": "ipython3",
   "version": "3.10.9"
  }
 },
 "nbformat": 4,
 "nbformat_minor": 5
}
