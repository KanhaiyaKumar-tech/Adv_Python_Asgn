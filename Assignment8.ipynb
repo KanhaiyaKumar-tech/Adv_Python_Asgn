{
 "cells": [
  {
   "cell_type": "code",
   "execution_count": null,
   "id": "44d4e365",
   "metadata": {},
   "outputs": [],
   "source": []
  },
  {
   "cell_type": "code",
   "execution_count": null,
   "id": "add6af8c",
   "metadata": {},
   "outputs": [],
   "source": [
    "Q1. What are the two latest user-defined exception constraints in Python 3.X?\n",
    " "
   ]
  },
  {
   "cell_type": "code",
   "execution_count": null,
   "id": "0eef51d4",
   "metadata": {},
   "outputs": [],
   "source": [
    " \n",
    "The two latest user-defined exception constraints in Python 3.X are:\n",
    "\n",
    "The exception must be a subclass of the Exception class.\n",
    "The exception must have a __str__() method that returns a string representation of the exception.\n",
    " \n",
    " \n",
    "\n"
   ]
  },
  {
   "cell_type": "code",
   "execution_count": null,
   "id": "412fcf2c",
   "metadata": {},
   "outputs": [],
   "source": []
  },
  {
   "cell_type": "code",
   "execution_count": null,
   "id": "2f7af4f7",
   "metadata": {},
   "outputs": [],
   "source": [
    " \n",
    "\n",
    "Q2. How are class-based exceptions that have been raised matched to handlers? "
   ]
  },
  {
   "cell_type": "code",
   "execution_count": null,
   "id": "9b690284",
   "metadata": {},
   "outputs": [],
   "source": [
    "Class-based exceptions that have been raised are matched to handlers by their class hierarchy. This means that if a handler is defined for the Exception class, it will also match exceptions that are subclasses of Exception.\n",
    "\n",
    "For example, if a handler is defined for the Exception class, it will also match exceptions that are instances of the TypeError class, the ValueError class, and so on.\n"
   ]
  },
  {
   "cell_type": "code",
   "execution_count": null,
   "id": "ca601f7d",
   "metadata": {},
   "outputs": [],
   "source": []
  },
  {
   "cell_type": "code",
   "execution_count": null,
   "id": "69d8d59e",
   "metadata": {},
   "outputs": [],
   "source": [
    " \n",
    "\n",
    "Q3. Describe two methods for attaching context information to exception artefacts."
   ]
  },
  {
   "cell_type": "code",
   "execution_count": null,
   "id": "718b3637",
   "metadata": {},
   "outputs": [],
   "source": [
    "There are two methods for attaching context information to exception artefacts:\n",
    "\n",
    "The __context__ attribute: The __context__ attribute of an exception object can be used to store context information. This information can then be accessed by handlers that catch the exception.\n",
    "The sys.exc_info() function: The sys.exc_info() function returns a tuple containing information about the current exception. This information can then be used to access context information that was attached to the exception.\n",
    " "
   ]
  },
  {
   "cell_type": "code",
   "execution_count": null,
   "id": "a9e4cde1",
   "metadata": {},
   "outputs": [],
   "source": []
  },
  {
   "cell_type": "code",
   "execution_count": null,
   "id": "5e769f90",
   "metadata": {},
   "outputs": [],
   "source": []
  },
  {
   "cell_type": "code",
   "execution_count": null,
   "id": "2772aca8",
   "metadata": {},
   "outputs": [],
   "source": [
    "\n",
    "\n",
    "Q4. Describe two methods for specifying the text of an exception object&#39;s error message.\n",
    "\n"
   ]
  },
  {
   "cell_type": "code",
   "execution_count": null,
   "id": "80507bea",
   "metadata": {},
   "outputs": [],
   "source": [
    "There are two methods for specifying the text of an exception object's error message:\n",
    "\n",
    "The __str__() method: The __str__() method of an exception object can be overridden to specify the text of the error message.\n",
    "The message keyword argument: The message keyword argument of the raise statement can be used to specify the text of the error message.\n",
    " "
   ]
  },
  {
   "cell_type": "code",
   "execution_count": null,
   "id": "80fe78c4",
   "metadata": {},
   "outputs": [],
   "source": []
  },
  {
   "cell_type": "code",
   "execution_count": null,
   "id": "e83cade2",
   "metadata": {},
   "outputs": [],
   "source": [
    "Q5. Why do you no longer use string-based exceptions?"
   ]
  },
  {
   "cell_type": "code",
   "execution_count": null,
   "id": "f10015df",
   "metadata": {},
   "outputs": [],
   "source": [
    "String-based exceptions are no longer used in Python because they are not as expressive as class-based exceptions. Class-based exceptions allow you to specify more information about the exception, such as the class of the exception, the line number where the exception occurred, and the stack trace.\n",
    "\n",
    "In addition, class-based exceptions are more robust than string-based exceptions. If a string-based exception is modified, it can break the code that is trying to handle the exception. Class-based exceptions are not affected by changes to the string representation of the exception."
   ]
  },
  {
   "cell_type": "code",
   "execution_count": null,
   "id": "257ee2f8",
   "metadata": {},
   "outputs": [],
   "source": []
  },
  {
   "cell_type": "code",
   "execution_count": null,
   "id": "b7794475",
   "metadata": {},
   "outputs": [],
   "source": []
  },
  {
   "cell_type": "code",
   "execution_count": null,
   "id": "8717ad63",
   "metadata": {},
   "outputs": [],
   "source": []
  },
  {
   "cell_type": "code",
   "execution_count": null,
   "id": "00c4d199",
   "metadata": {},
   "outputs": [],
   "source": []
  },
  {
   "cell_type": "code",
   "execution_count": null,
   "id": "1e5e48c8",
   "metadata": {},
   "outputs": [],
   "source": []
  },
  {
   "cell_type": "code",
   "execution_count": null,
   "id": "35f222f5",
   "metadata": {},
   "outputs": [],
   "source": []
  }
 ],
 "metadata": {
  "kernelspec": {
   "display_name": "Python 3 (ipykernel)",
   "language": "python",
   "name": "python3"
  },
  "language_info": {
   "codemirror_mode": {
    "name": "ipython",
    "version": 3
   },
   "file_extension": ".py",
   "mimetype": "text/x-python",
   "name": "python",
   "nbconvert_exporter": "python",
   "pygments_lexer": "ipython3",
   "version": "3.10.9"
  }
 },
 "nbformat": 4,
 "nbformat_minor": 5
}
