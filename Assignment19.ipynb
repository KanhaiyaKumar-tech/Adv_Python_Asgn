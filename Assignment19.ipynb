{
 "cells": [
  {
   "cell_type": "code",
   "execution_count": null,
   "id": "668c957a",
   "metadata": {},
   "outputs": [],
   "source": []
  },
  {
   "cell_type": "code",
   "execution_count": null,
   "id": "fa60a58d",
   "metadata": {},
   "outputs": [],
   "source": [
    "Q1. Define the relationship between a class and its instances. Is it a one-to-one or a one-to-many\n",
    "partnership, for example?\n",
    "\n"
   ]
  },
  {
   "cell_type": "code",
   "execution_count": null,
   "id": "34e6c3b7",
   "metadata": {},
   "outputs": [],
   "source": [
    "  The relationship between a class and its instances is a one-to-many partnership. A class is like a blueprint or template that defines the structure and behavior of objects. An instance, also known as an object, is a specific occurrence or realization of that class. You can create multiple instances of a class, each with its own unique set of attributes and state.\n",
    "\n"
   ]
  },
  {
   "cell_type": "code",
   "execution_count": null,
   "id": "91cb4e02",
   "metadata": {},
   "outputs": [],
   "source": []
  },
  {
   "cell_type": "code",
   "execution_count": null,
   "id": "de24881d",
   "metadata": {},
   "outputs": [],
   "source": [
    "Q2. What kind of data is held only in an instance?\n",
    "\n"
   ]
  },
  {
   "cell_type": "code",
   "execution_count": null,
   "id": "eb788e1e",
   "metadata": {},
   "outputs": [],
   "source": [
    "  Instance-specific data, also known as instance variables or attributes, is held only in an instance. These variables store specific values that are unique to each instance of a class.\n"
   ]
  },
  {
   "cell_type": "code",
   "execution_count": null,
   "id": "3232f088",
   "metadata": {},
   "outputs": [],
   "source": []
  },
  {
   "cell_type": "code",
   "execution_count": null,
   "id": "7826ca87",
   "metadata": {},
   "outputs": [],
   "source": [
    "Q3. What kind of knowledge is stored in a class?\n",
    "\n"
   ]
  },
  {
   "cell_type": "code",
   "execution_count": null,
   "id": "d50bff54",
   "metadata": {},
   "outputs": [],
   "source": [
    "  A class stores knowledge in the form of class variables and methods. Class variables are shared among all instances of a class and hold data that is common to all instances. Methods are functions defined within a class that define its behavior and actions. They can operate on both class variables and instance variables.\n"
   ]
  },
  {
   "cell_type": "code",
   "execution_count": null,
   "id": "75a6d01e",
   "metadata": {},
   "outputs": [],
   "source": []
  },
  {
   "cell_type": "code",
   "execution_count": null,
   "id": "bd72af74",
   "metadata": {},
   "outputs": [],
   "source": [
    "Q4. What exactly is a method, and how is it different from a regular function?\n",
    "\n"
   ]
  },
  {
   "cell_type": "code",
   "execution_count": null,
   "id": "a314a37d",
   "metadata": {},
   "outputs": [],
   "source": [
    "  A method is a function that is defined within a class and operates on instances of that class. It is similar to a regular function but has access to the instance and class variables through the `self` parameter. The `self` parameter represents the instance calling the method and allows access to its attributes and other methods.\n"
   ]
  },
  {
   "cell_type": "code",
   "execution_count": null,
   "id": "1d1723a1",
   "metadata": {},
   "outputs": [],
   "source": []
  },
  {
   "cell_type": "code",
   "execution_count": null,
   "id": "8d99b708",
   "metadata": {},
   "outputs": [],
   "source": [
    "Q5. Is inheritance supported in Python, and if so, what is the syntax?\n",
    "\n"
   ]
  },
  {
   "cell_type": "code",
   "execution_count": null,
   "id": "714764c7",
   "metadata": {},
   "outputs": [],
   "source": [
    "  Yes, inheritance is supported in Python. The syntax for inheritance is achieved by specifying the base class(es) from which a class inherits. This is done by including the base class(es) in parentheses after the class name. For example: `class SubClass(BaseClass):`.\n"
   ]
  },
  {
   "cell_type": "code",
   "execution_count": null,
   "id": "23b33253",
   "metadata": {},
   "outputs": [],
   "source": []
  },
  {
   "cell_type": "code",
   "execution_count": null,
   "id": "ed33da78",
   "metadata": {},
   "outputs": [],
   "source": [
    "Q6. How much encapsulation (making instance or class variables private) does Python support?\n",
    "\n"
   ]
  },
  {
   "cell_type": "code",
   "execution_count": null,
   "id": "47169336",
   "metadata": {},
   "outputs": [],
   "source": [
    "  Python supports encapsulation to some extent. By convention, variables and methods that are intended to be private or internal to a class are prefixed with an underscore (_) to indicate their intended usage. However, Python does not enforce strict access control like some other programming languages. It relies on naming conventions and programmer discipline to indicate the intended level of encapsulation.\n"
   ]
  },
  {
   "cell_type": "code",
   "execution_count": null,
   "id": "5ba99014",
   "metadata": {},
   "outputs": [],
   "source": []
  },
  {
   "cell_type": "code",
   "execution_count": null,
   "id": "66a3b7fe",
   "metadata": {},
   "outputs": [],
   "source": [
    "Q7. How do you distinguish between a class variable and an instance variable?\n",
    "\n"
   ]
  },
  {
   "cell_type": "code",
   "execution_count": null,
   "id": "c544fb6a",
   "metadata": {},
   "outputs": [],
   "source": [
    "  A class variable is shared among all instances of a class, while an instance variable is specific to a particular instance of a class. Class variables are defined within the class but outside of any method, while instance variables are typically defined within the `__init__` method using the `self` keyword.\n"
   ]
  },
  {
   "cell_type": "code",
   "execution_count": null,
   "id": "18b78a14",
   "metadata": {},
   "outputs": [],
   "source": []
  },
  {
   "cell_type": "code",
   "execution_count": null,
   "id": "03a693bd",
   "metadata": {},
   "outputs": [],
   "source": [
    "Q8. When, if ever, can self be included in a class&#39;s method definitions?\n",
    "\n"
   ]
  },
  {
   "cell_type": "code",
   "execution_count": null,
   "id": "d16633cc",
   "metadata": {},
   "outputs": [],
   "source": [
    "  The `self` parameter is included in a class's method definitions to refer to the instance calling the method. It allows access to the instance's attributes and other methods. `self` is typically the first parameter in a method definition, although any name can be used. It is conventionally named `self` for clarity and consistency.\n"
   ]
  },
  {
   "cell_type": "code",
   "execution_count": null,
   "id": "c1f60c67",
   "metadata": {},
   "outputs": [],
   "source": []
  },
  {
   "cell_type": "code",
   "execution_count": null,
   "id": "60f6c612",
   "metadata": {},
   "outputs": [],
   "source": [
    "Q9. What is the difference between the _ _add_ _ and the _ _radd_ _ methods?\n",
    "\n"
   ]
  },
  {
   "cell_type": "code",
   "execution_count": null,
   "id": "dd0938b1",
   "metadata": {},
   "outputs": [],
   "source": [
    "  The `__add__` method is used to implement the addition operator (+) for an object, while the `__radd__` method is used for reflected addition when the object is on the right-hand side of the addition operator. The main difference is the order of the operands. If the left-hand operand does not support addition with the right-hand operand, Python tries to use the reflected addition with the `__radd__` method.\n"
   ]
  },
  {
   "cell_type": "code",
   "execution_count": null,
   "id": "29d3107c",
   "metadata": {},
   "outputs": [],
   "source": []
  },
  {
   "cell_type": "code",
   "execution_count": null,
   "id": "a5050d64",
   "metadata": {},
   "outputs": [],
   "source": [
    "Q10. When is it necessary to use a reflection method? When do you not need it, even though you\n",
    "support the operation in question?\n",
    "\n"
   ]
  },
  {
   "cell_type": "code",
   "execution_count": null,
   "id": "8ac701fe",
   "metadata": {},
   "outputs": [],
   "source": [
    "  Reflection methods, such as `__getattr__`, `__setattr__`, and `__delattr__`, are used to control attribute access and modification dynamically. They allow customization of attribute access behavior and can be used to implement features such as lazy loading or attribute validation. Reflection methods are not always necessary, as Python provides default attribute access behavior that can be sufficient in many cases.\n"
   ]
  },
  {
   "cell_type": "code",
   "execution_count": null,
   "id": "b3fa5007",
   "metadata": {},
   "outputs": [],
   "source": []
  },
  {
   "cell_type": "code",
   "execution_count": null,
   "id": "7e4202e6",
   "metadata": {},
   "outputs": [],
   "source": [
    "Q11. What is the _ _iadd_ _ method called?\n",
    "\n"
   ]
  },
  {
   "cell_type": "code",
   "execution_count": null,
   "id": "800953fc",
   "metadata": {},
   "outputs": [],
   "source": [
    "  The `__iadd__` method is called when the in-place addition operator (+=) is used on an object. It is used to implement the behavior of adding another object to itself and updating its value in place.\n"
   ]
  },
  {
   "cell_type": "code",
   "execution_count": null,
   "id": "87fc9e71",
   "metadata": {},
   "outputs": [],
   "source": []
  },
  {
   "cell_type": "code",
   "execution_count": null,
   "id": "263d43d3",
   "metadata": {},
   "outputs": [],
   "source": [
    "Q12. Is the _ _init_ _ method inherited by subclasses? What do you do if you need to customize its\n",
    "behavior within a subclass?"
   ]
  },
  {
   "cell_type": "code",
   "execution_count": null,
   "id": "d889b1c5",
   "metadata": {},
   "outputs": [],
   "source": [
    "  The `__init__` method is not automatically inherited by subclasses. However, if a subclass does not define its own `__init__` method, it will inherit the `__init__` method of its base class. If you need to customize the behavior of `__init__` within a subclass, you can override the method by defining it in the subclass. This allows you to add additional initialization steps or modify the behavior of the superclass's `__init__` method.\n",
    "    "
   ]
  },
  {
   "cell_type": "code",
   "execution_count": null,
   "id": "5377ea69",
   "metadata": {},
   "outputs": [],
   "source": []
  }
 ],
 "metadata": {
  "kernelspec": {
   "display_name": "Python 3 (ipykernel)",
   "language": "python",
   "name": "python3"
  },
  "language_info": {
   "codemirror_mode": {
    "name": "ipython",
    "version": 3
   },
   "file_extension": ".py",
   "mimetype": "text/x-python",
   "name": "python",
   "nbconvert_exporter": "python",
   "pygments_lexer": "ipython3",
   "version": "3.10.9"
  }
 },
 "nbformat": 4,
 "nbformat_minor": 5
}
