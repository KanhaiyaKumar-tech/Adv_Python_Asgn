{
 "cells": [
  {
   "cell_type": "code",
   "execution_count": null,
   "id": "52caa7f7",
   "metadata": {},
   "outputs": [],
   "source": []
  },
  {
   "cell_type": "code",
   "execution_count": null,
   "id": "84b803f3",
   "metadata": {},
   "outputs": [],
   "source": [
    "Q1. What are the benefits of the built-in array package, if any?\n",
    "\n"
   ]
  },
  {
   "cell_type": "code",
   "execution_count": null,
   "id": "553b99ee",
   "metadata": {},
   "outputs": [],
   "source": [
    "  The built-in `array` package in Python provides a compact and efficient way to work with homogeneous data types. It offers benefits such as efficient storage and manipulation of large numerical arrays, reduced memory usage compared to regular lists, and optimized operations for numerical computations.\n"
   ]
  },
  {
   "cell_type": "code",
   "execution_count": null,
   "id": "b88b437f",
   "metadata": {},
   "outputs": [],
   "source": []
  },
  {
   "cell_type": "code",
   "execution_count": null,
   "id": "627a39e1",
   "metadata": {},
   "outputs": [],
   "source": [
    "Q2. What are some of the array package&#39;s limitations?\n",
    "\n"
   ]
  },
  {
   "cell_type": "code",
   "execution_count": null,
   "id": "3780c2d7",
   "metadata": {},
   "outputs": [],
   "source": [
    "  Some limitations of the `array` package include its restriction to homogeneous data types, limited support for multidimensional arrays, and fewer mathematical and scientific functions compared to the `numpy` package.\n"
   ]
  },
  {
   "cell_type": "code",
   "execution_count": null,
   "id": "47976d93",
   "metadata": {},
   "outputs": [],
   "source": []
  },
  {
   "cell_type": "code",
   "execution_count": null,
   "id": "efcee100",
   "metadata": {},
   "outputs": [],
   "source": [
    "Q3. Describe the main differences between the array and numpy packages.\n",
    "\n"
   ]
  },
  {
   "cell_type": "code",
   "execution_count": null,
   "id": "945080f3",
   "metadata": {},
   "outputs": [],
   "source": [
    " The main differences between the `array` package and the `numpy` package are:\n",
    "\n",
    "- Data types: The `array` package supports only a limited set of basic data types (e.g., integers, floats), while `numpy` provides a wider range of numerical data types with more precision.\n",
    "- Functionality: `numpy` offers a comprehensive set of mathematical and scientific functions, extensive support for multidimensional arrays, broadcasting, and advanced indexing techniques. The `array` package has more limited functionality in comparison.\n",
    "- Performance: `numpy` is optimized for efficient numerical computations and performs operations faster than the `array` package, especially for large arrays.\n"
   ]
  },
  {
   "cell_type": "code",
   "execution_count": null,
   "id": "03b4a1e3",
   "metadata": {},
   "outputs": [],
   "source": []
  },
  {
   "cell_type": "code",
   "execution_count": null,
   "id": "9fc4ec50",
   "metadata": {},
   "outputs": [],
   "source": [
    "Q4. Explain the distinctions between the empty, ones, and zeros functions.\n",
    "\n"
   ]
  },
  {
   "cell_type": "code",
   "execution_count": null,
   "id": "643a6db3",
   "metadata": {},
   "outputs": [],
   "source": [
    " The distinctions between the `empty`, `ones`, and `zeros` functions in numpy are as follows:\n",
    "\n",
    "- `empty`: This function creates a new array without initializing its elements to any particular value. The elements of the array will have random or arbitrary values, depending on the state of the memory at the time of allocation. It is a faster alternative to `zeros` or `ones` when you don't need the initial values.\n",
    "- `ones`: This function creates a new array and initializes all its elements to the value 1. The resulting array will have the same shape as the input parameters.\n",
    "- `zeros`: This function creates a new array and initializes all its elements to the value 0. Like `ones`, the resulting array will have the same shape as the input parameters.\n"
   ]
  },
  {
   "cell_type": "code",
   "execution_count": null,
   "id": "61bdfcbd",
   "metadata": {},
   "outputs": [],
   "source": []
  },
  {
   "cell_type": "code",
   "execution_count": null,
   "id": "e1801018",
   "metadata": {},
   "outputs": [],
   "source": [
    "Q5. In the fromfunction function, which is used to construct new arrays, what is the role of the callable\n",
    "argument?\n",
    "\n"
   ]
  },
  {
   "cell_type": "code",
   "execution_count": null,
   "id": "74284a68",
   "metadata": {},
   "outputs": [],
   "source": [
    " In the `fromfunction` function, the `callable` argument is a function or a callable object that is used to generate the array values. The function is called with coordinates as input, and the returned value at each coordinate is assigned to the corresponding element in the output array. It allows for more flexible and dynamic array creation based on mathematical expressions or custom functions.\n"
   ]
  },
  {
   "cell_type": "code",
   "execution_count": null,
   "id": "46567cd8",
   "metadata": {},
   "outputs": [],
   "source": []
  },
  {
   "cell_type": "code",
   "execution_count": null,
   "id": "97a3c475",
   "metadata": {},
   "outputs": [],
   "source": [
    "Q6. What happens when a numpy array is combined with a single-value operand (a scalar, such as\n",
    "an int or a floating-point value) through addition, as in the expression A + n?\n",
    "\n"
   ]
  },
  {
   "cell_type": "code",
   "execution_count": null,
   "id": "01f3e1ac",
   "metadata": {},
   "outputs": [],
   "source": [
    "  When a numpy array is combined with a single-value operand (a scalar) through addition, such as `A + n`, the scalar value is broadcasted to match the shape of the array, and the addition operation is performed element-wise between the array and the scalar. Each element in the array is added to the scalar value, resulting in a new array with the same shape as the original.\n"
   ]
  },
  {
   "cell_type": "code",
   "execution_count": null,
   "id": "7b97efe0",
   "metadata": {},
   "outputs": [],
   "source": []
  },
  {
   "cell_type": "code",
   "execution_count": null,
   "id": "475097ee",
   "metadata": {},
   "outputs": [],
   "source": [
    "Q7. Can array-to-scalar operations use combined operation-assign operators (such as += or *=)?\n",
    "What is the outcome?\n",
    "\n"
   ]
  },
  {
   "cell_type": "code",
   "execution_count": null,
   "id": "78626934",
   "metadata": {},
   "outputs": [],
   "source": [
    "  Array-to-scalar operations in numpy do support combined operation-assign operators (such as `+=` or `*=`). The outcome of such operations is that the operation is performed element-wise between the array and the scalar operand, and the result is stored back in the original array.\n"
   ]
  },
  {
   "cell_type": "code",
   "execution_count": null,
   "id": "a7fe1d8e",
   "metadata": {},
   "outputs": [],
   "source": []
  },
  {
   "cell_type": "code",
   "execution_count": null,
   "id": "68a9a9d0",
   "metadata": {},
   "outputs": [],
   "source": [
    "Q8. Does a numpy array contain fixed-length strings? What happens if you allocate a longer string to\n",
    "one of these arrays?\n",
    "\n"
   ]
  },
  {
   "cell_type": "code",
   "execution_count": null,
   "id": "3509ff0f",
   "metadata": {},
   "outputs": [],
   "source": [
    "  Yes, a numpy array can contain fixed-length strings. If you allocate a longer string to an array that has fixed-length strings, the longer string will be truncated to fit the specified length. No error or warning is raised.\n"
   ]
  },
  {
   "cell_type": "code",
   "execution_count": null,
   "id": "4486ca74",
   "metadata": {},
   "outputs": [],
   "source": []
  },
  {
   "cell_type": "code",
   "execution_count": null,
   "id": "89aeab71",
   "metadata": {},
   "outputs": [],
   "source": [
    "Q9. What happens when you combine two numpy arrays using an operation like addition (+) or\n",
    "multiplication (*)? What are the conditions for combining two numpy arrays?\n",
    "\n"
   ]
  },
  {
   "cell_type": "code",
   "execution_count": null,
   "id": "e7f414a3",
   "metadata": {},
   "outputs": [],
   "source": [
    " When two numpy arrays are combined using operations like addition (`+`) or multiplication (`*`), the operation is performed element-wise between the corresponding elements of the arrays. The two arrays must have the same shape or compatible shapes for the operation to be valid. If the arrays have different shapes, numpy will try to automatically align their shapes using broadcasting rules.\n",
    "\n",
    " "
   ]
  },
  {
   "cell_type": "code",
   "execution_count": null,
   "id": "037359ea",
   "metadata": {},
   "outputs": [],
   "source": []
  },
  {
   "cell_type": "code",
   "execution_count": null,
   "id": "51478748",
   "metadata": {},
   "outputs": [],
   "source": [
    "Q10. What is the best way to use a Boolean array to mask another array?\n",
    "\n"
   ]
  },
  {
   "cell_type": "code",
   "execution_count": null,
   "id": "f4743c9a",
   "metadata": {},
   "outputs": [],
   "source": [
    " To use a Boolean array as a mask for another array, you can simply index the array with the Boolean mask. The Boolean mask should have the same shape as the array you want to mask. Only the elements corresponding to `True` values in the mask will be selected in the resulting masked array.\n",
    " \n"
   ]
  },
  {
   "cell_type": "code",
   "execution_count": null,
   "id": "ec5b65c1",
   "metadata": {},
   "outputs": [],
   "source": []
  },
  {
   "cell_type": "code",
   "execution_count": null,
   "id": "7123a0a9",
   "metadata": {},
   "outputs": [],
   "source": [
    "Q11. What are three different ways to get the standard deviation of a wide collection of data using\n",
    "both standard Python and its packages? Sort the three of them by how quickly they execute.\n",
    "\n"
   ]
  },
  {
   "cell_type": "code",
   "execution_count": null,
   "id": "64bcca85",
   "metadata": {},
   "outputs": [],
   "source": [
    " Three different ways to calculate the standard deviation of a wide collection of data using Python and its packages are:\n",
    "\n",
    "- Using the `statistics` module: You can use the `statistics.stdev()` function from the built-in `statistics` module, which operates on a list of numeric values. This method is suitable for small datasets.\n",
    "- Using the `numpy` package: You can use the `numpy.std()` function, which calculates the standard deviation of a numpy array or a list of values. This method is efficient for large datasets and provides additional functionality for working with arrays.\n",
    "- Using the `pandas` package: If your data is structured in a tabular format, you can use the `pandas` library, which provides the `DataFrame.std()` method. This method allows you to calculate the standard deviation of a specific column or across multiple columns in a DataFrame. It offers more advanced data manipulation and analysis capabilities.\n",
    "\n",
    "The execution speed of these methods may vary depending on the size of the dataset and the specific requirements of your task.\n"
   ]
  },
  {
   "cell_type": "code",
   "execution_count": null,
   "id": "8f068982",
   "metadata": {},
   "outputs": [],
   "source": []
  },
  {
   "cell_type": "code",
   "execution_count": null,
   "id": "62254bbb",
   "metadata": {},
   "outputs": [],
   "source": [
    "12. What is the dimensionality of a Boolean mask-generated array?"
   ]
  },
  {
   "cell_type": "code",
   "execution_count": null,
   "id": "25024378",
   "metadata": {},
   "outputs": [],
   "source": [
    "  The dimensionality of a Boolean mask-generated array is the same as the original array. The mask is used to select specific elements from the original array based on the Boolean condition, but the resulting array will retain the same number of dimensions as the original. The shape of the masked array will depend on the locations of `True` values in the mask.\n"
   ]
  },
  {
   "cell_type": "code",
   "execution_count": null,
   "id": "cfddcf2d",
   "metadata": {},
   "outputs": [],
   "source": []
  },
  {
   "cell_type": "code",
   "execution_count": null,
   "id": "5824409c",
   "metadata": {},
   "outputs": [],
   "source": []
  },
  {
   "cell_type": "code",
   "execution_count": null,
   "id": "f647823b",
   "metadata": {},
   "outputs": [],
   "source": []
  },
  {
   "cell_type": "code",
   "execution_count": null,
   "id": "0262cf85",
   "metadata": {},
   "outputs": [],
   "source": []
  },
  {
   "cell_type": "code",
   "execution_count": null,
   "id": "7a034fd2",
   "metadata": {},
   "outputs": [],
   "source": []
  },
  {
   "cell_type": "code",
   "execution_count": null,
   "id": "2d583f21",
   "metadata": {},
   "outputs": [],
   "source": []
  },
  {
   "cell_type": "code",
   "execution_count": null,
   "id": "65307a34",
   "metadata": {},
   "outputs": [],
   "source": []
  },
  {
   "cell_type": "code",
   "execution_count": null,
   "id": "e9ec7d96",
   "metadata": {},
   "outputs": [],
   "source": []
  },
  {
   "cell_type": "code",
   "execution_count": null,
   "id": "3e79a8fe",
   "metadata": {},
   "outputs": [],
   "source": []
  },
  {
   "cell_type": "code",
   "execution_count": null,
   "id": "0b0cc677",
   "metadata": {},
   "outputs": [],
   "source": []
  },
  {
   "cell_type": "code",
   "execution_count": null,
   "id": "dba85519",
   "metadata": {},
   "outputs": [],
   "source": []
  },
  {
   "cell_type": "code",
   "execution_count": null,
   "id": "59dba565",
   "metadata": {},
   "outputs": [],
   "source": []
  },
  {
   "cell_type": "code",
   "execution_count": null,
   "id": "64614069",
   "metadata": {},
   "outputs": [],
   "source": []
  },
  {
   "cell_type": "code",
   "execution_count": null,
   "id": "76d869dc",
   "metadata": {},
   "outputs": [],
   "source": []
  },
  {
   "cell_type": "code",
   "execution_count": null,
   "id": "7a56a048",
   "metadata": {},
   "outputs": [],
   "source": []
  },
  {
   "cell_type": "code",
   "execution_count": null,
   "id": "e02bbeac",
   "metadata": {},
   "outputs": [],
   "source": []
  },
  {
   "cell_type": "code",
   "execution_count": null,
   "id": "7d34210f",
   "metadata": {},
   "outputs": [],
   "source": []
  },
  {
   "cell_type": "code",
   "execution_count": null,
   "id": "501fee3d",
   "metadata": {},
   "outputs": [],
   "source": []
  }
 ],
 "metadata": {
  "kernelspec": {
   "display_name": "Python 3 (ipykernel)",
   "language": "python",
   "name": "python3"
  },
  "language_info": {
   "codemirror_mode": {
    "name": "ipython",
    "version": 3
   },
   "file_extension": ".py",
   "mimetype": "text/x-python",
   "name": "python",
   "nbconvert_exporter": "python",
   "pygments_lexer": "ipython3",
   "version": "3.10.9"
  }
 },
 "nbformat": 4,
 "nbformat_minor": 5
}
