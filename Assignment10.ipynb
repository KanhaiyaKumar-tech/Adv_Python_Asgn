{
 "cells": [
  {
   "cell_type": "code",
   "execution_count": null,
   "id": "2e3525ec",
   "metadata": {},
   "outputs": [],
   "source": []
  },
  {
   "cell_type": "code",
   "execution_count": null,
   "id": "6f497e35",
   "metadata": {},
   "outputs": [],
   "source": [
    "Q1. What is the difference between __getattr__ and __getattribute__?\n"
   ]
  },
  {
   "cell_type": "code",
   "execution_count": null,
   "id": "2a9e1b81",
   "metadata": {},
   "outputs": [],
   "source": [
    " \n",
    "\n",
    "The __getattr__() and __getattribute__() methods are both special methods that are used to handle attribute access. However, they have different purposes.\n",
    "\n",
    "The __getattr__() method is called when an attribute is not found on an object. The __getattribute__() method is called whenever an attribute is accessed on an object, whether or not the attribute exists.\n",
    "\n",
    "In other words, the __getattr__() method is only called if the attribute is not found, while the __getattribute__() method is called every time an attribute is accessed.\n",
    "\n",
    " \n",
    " "
   ]
  },
  {
   "cell_type": "code",
   "execution_count": null,
   "id": "231791cf",
   "metadata": {},
   "outputs": [],
   "source": []
  },
  {
   "cell_type": "code",
   "execution_count": null,
   "id": "c74d9e33",
   "metadata": {},
   "outputs": [],
   "source": []
  },
  {
   "cell_type": "code",
   "execution_count": null,
   "id": "84772b77",
   "metadata": {},
   "outputs": [],
   "source": [
    "\n",
    "Q2. What is the difference between properties and descriptors?\n"
   ]
  },
  {
   "cell_type": "code",
   "execution_count": null,
   "id": "131c2a73",
   "metadata": {},
   "outputs": [],
   "source": [
    "Properties and descriptors are both ways of providing custom attribute access for objects. However, they have different implementations and different purposes.\n",
    "\n",
    "Properties are a simpler way of providing custom attribute access. They are implemented as a special type of attribute, and they can be defined using the @property decorator.\n",
    "\n",
    "Descriptors are a more complex way of providing custom attribute access. They are implemented as classes, and they can be used to define custom getters, setters, and deleters for attributes.\n"
   ]
  },
  {
   "cell_type": "code",
   "execution_count": null,
   "id": "d887f451",
   "metadata": {},
   "outputs": [],
   "source": []
  },
  {
   "cell_type": "code",
   "execution_count": null,
   "id": "2a406ba5",
   "metadata": {},
   "outputs": [],
   "source": []
  },
  {
   "cell_type": "code",
   "execution_count": null,
   "id": "6ee358e5",
   "metadata": {},
   "outputs": [],
   "source": [
    "\n",
    "Q3. What are the key differences in functionality between __getattr__ and __getattribute__, as well as\n",
    "properties and descriptors?"
   ]
  },
  {
   "cell_type": "code",
   "execution_count": null,
   "id": "b8eb7394",
   "metadata": {},
   "outputs": [],
   "source": [
    "The key differences in functionality between __getattr__() and __getattribute__(), as well as properties and descriptors, are as follows:\n",
    "\n",
    "__getattr__() is called when an attribute is not found, while __getattribute__() is called every time an attribute is accessed.\n",
    "Properties are a simpler way of providing custom attribute access, while descriptors are a more complex way of providing custom attribute access.\n",
    "Properties are implemented as a special type of attribute, while descriptors are implemented as classes.\n",
    "Properties can only be used to define getters, while descriptors can be used to define getters, setters, and deleters.\n",
    "In general, properties are a good choice for simple cases where you need to provide custom attribute access. Descriptors are a good choice for more complex cases where you need to define custom getters, setters, and deleters.\n"
   ]
  },
  {
   "cell_type": "code",
   "execution_count": null,
   "id": "d2471a1d",
   "metadata": {},
   "outputs": [],
   "source": []
  },
  {
   "cell_type": "code",
   "execution_count": null,
   "id": "d3460db7",
   "metadata": {},
   "outputs": [],
   "source": []
  },
  {
   "cell_type": "code",
   "execution_count": null,
   "id": "f8290ba2",
   "metadata": {},
   "outputs": [],
   "source": []
  },
  {
   "cell_type": "code",
   "execution_count": null,
   "id": "8c7e2b7d",
   "metadata": {},
   "outputs": [],
   "source": []
  },
  {
   "cell_type": "code",
   "execution_count": null,
   "id": "51a2ba2e",
   "metadata": {},
   "outputs": [],
   "source": []
  },
  {
   "cell_type": "code",
   "execution_count": null,
   "id": "b4e73961",
   "metadata": {},
   "outputs": [],
   "source": []
  },
  {
   "cell_type": "code",
   "execution_count": null,
   "id": "24a678ba",
   "metadata": {},
   "outputs": [],
   "source": []
  },
  {
   "cell_type": "code",
   "execution_count": null,
   "id": "1b7cf1b1",
   "metadata": {},
   "outputs": [],
   "source": []
  },
  {
   "cell_type": "code",
   "execution_count": null,
   "id": "8ba5e479",
   "metadata": {},
   "outputs": [],
   "source": []
  },
  {
   "cell_type": "code",
   "execution_count": null,
   "id": "e5610651",
   "metadata": {},
   "outputs": [],
   "source": []
  },
  {
   "cell_type": "code",
   "execution_count": null,
   "id": "770afa27",
   "metadata": {},
   "outputs": [],
   "source": []
  },
  {
   "cell_type": "code",
   "execution_count": null,
   "id": "be5fe4ba",
   "metadata": {},
   "outputs": [],
   "source": []
  },
  {
   "cell_type": "code",
   "execution_count": null,
   "id": "3325557f",
   "metadata": {},
   "outputs": [],
   "source": []
  },
  {
   "cell_type": "code",
   "execution_count": null,
   "id": "9155f843",
   "metadata": {},
   "outputs": [],
   "source": []
  }
 ],
 "metadata": {
  "kernelspec": {
   "display_name": "Python 3 (ipykernel)",
   "language": "python",
   "name": "python3"
  },
  "language_info": {
   "codemirror_mode": {
    "name": "ipython",
    "version": 3
   },
   "file_extension": ".py",
   "mimetype": "text/x-python",
   "name": "python",
   "nbconvert_exporter": "python",
   "pygments_lexer": "ipython3",
   "version": "3.10.9"
  }
 },
 "nbformat": 4,
 "nbformat_minor": 5
}
