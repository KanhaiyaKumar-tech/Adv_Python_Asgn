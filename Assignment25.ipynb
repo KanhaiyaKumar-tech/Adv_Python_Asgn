{
 "cells": [
  {
   "cell_type": "code",
   "execution_count": null,
   "id": "9c168fab",
   "metadata": {},
   "outputs": [],
   "source": []
  },
  {
   "cell_type": "code",
   "execution_count": null,
   "id": "4e076070",
   "metadata": {},
   "outputs": [],
   "source": [
    "Q1. What is the distinction between a numpy array and a pandas data frame? Is there a way to\n",
    "convert between the two if there is?\n",
    "\n"
   ]
  },
  {
   "cell_type": "code",
   "execution_count": null,
   "id": "0a4bebcd",
   "metadata": {},
   "outputs": [],
   "source": [
    "  The main distinction between a NumPy array and a pandas DataFrame is their underlying data structure and the functionality they provide. \n",
    "\n",
    "- NumPy arrays are homogeneous multidimensional arrays, meaning they contain elements of the same data type arranged in a grid-like structure. They are optimized for numerical operations and provide efficient storage and computation of large datasets.\n",
    "\n",
    "- pandas DataFrames, on the other hand, are two-dimensional labeled data structures. They can contain columns of different data types and offer more flexibility in terms of handling and analyzing data. DataFrames provide additional features such as labeled axes, column indexing, data alignment, and support for missing data.\n",
    "\n",
    "You can convert a NumPy array to a pandas DataFrame using the `pd.DataFrame()` constructor, specifying the array as the data argument. Similarly, you can convert a pandas DataFrame to a NumPy array using the `df.values` attribute.\n"
   ]
  },
  {
   "cell_type": "code",
   "execution_count": null,
   "id": "b5f38681",
   "metadata": {},
   "outputs": [],
   "source": []
  },
  {
   "cell_type": "code",
   "execution_count": null,
   "id": "5fcd872d",
   "metadata": {},
   "outputs": [],
   "source": [
    "Q2. What can go wrong when an user enters in a stock-ticker symbol, and how do you handle it?\n",
    "\n"
   ]
  },
  {
   "cell_type": "code",
   "execution_count": null,
   "id": "24039038",
   "metadata": {},
   "outputs": [],
   "source": [
    " When a user enters a stock-ticker symbol, some potential issues that can arise include:\n",
    "- Entering an invalid or nonexistent symbol\n",
    "- Typographical errors or incorrect formatting\n",
    "- Handling different stock exchanges or markets\n",
    "- Dealing with case sensitivity\n",
    "\n",
    "To handle these issues, it is important to implement appropriate validation and error handling mechanisms. This may involve checking against a known list of valid symbols, handling exceptions, providing suggestions for similar symbols, or offering autocomplete functionality.\n"
   ]
  },
  {
   "cell_type": "code",
   "execution_count": null,
   "id": "091def88",
   "metadata": {},
   "outputs": [],
   "source": []
  },
  {
   "cell_type": "code",
   "execution_count": null,
   "id": "4db1ba49",
   "metadata": {},
   "outputs": [],
   "source": [
    "Q3. Identify some of the plotting techniques that are used to produce a stock-market chart.\n",
    "\n"
   ]
  },
  {
   "cell_type": "code",
   "execution_count": null,
   "id": "0f75e845",
   "metadata": {},
   "outputs": [],
   "source": [
    "Some common plotting techniques used to produce stock-market charts include:\n",
    "- Line charts: Displaying the price movement over time.\n",
    "- Candlestick charts: Visualizing open, close, high, and low prices for each time period.\n",
    "- Bar charts: Showing volume or other metrics alongside price data.\n",
    "- Moving averages: Plotting lines to smooth out price fluctuations and identify trends.\n",
    "- Technical indicators: Adding overlays or subplots to display additional indicators such as moving averages, oscillators, or trend lines.\n"
   ]
  },
  {
   "cell_type": "code",
   "execution_count": null,
   "id": "cb2a26cc",
   "metadata": {},
   "outputs": [],
   "source": []
  },
  {
   "cell_type": "code",
   "execution_count": null,
   "id": "ece35570",
   "metadata": {},
   "outputs": [],
   "source": [
    "Q4. Why is it essential to print a legend on a stock market chart?\n",
    "\n"
   ]
  },
  {
   "cell_type": "code",
   "execution_count": null,
   "id": "d9657374",
   "metadata": {},
   "outputs": [],
   "source": [
    "Printing a legend on a stock market chart is essential because it provides a key to interpreting the different elements on the chart. It helps identify the meaning of various lines, colors, or symbols used to represent different data series or indicators. The legend enables viewers to understand the information presented in the chart and make informed decisions based on the displayed data.\n"
   ]
  },
  {
   "cell_type": "code",
   "execution_count": null,
   "id": "81733ff1",
   "metadata": {},
   "outputs": [],
   "source": []
  },
  {
   "cell_type": "code",
   "execution_count": null,
   "id": "c79a5106",
   "metadata": {},
   "outputs": [],
   "source": [
    "Q5. What is the best way to limit the length of a pandas data frame to less than a year?\n",
    "\n"
   ]
  },
  {
   "cell_type": "code",
   "execution_count": null,
   "id": "2e1e6365",
   "metadata": {},
   "outputs": [],
   "source": [
    "To limit the length of a pandas DataFrame to less than a year, you can use various methods:\n",
    "- Slice the DataFrame based on the desired date range using the index or a specific column representing the date.\n",
    "- Filter the DataFrame by checking if the dates fall within the desired range.\n",
    "- Use the `pd.DateOffset` or `pd.Timedelta` functions to offset the date and select a specific time period.\n"
   ]
  },
  {
   "cell_type": "code",
   "execution_count": null,
   "id": "358e17f2",
   "metadata": {},
   "outputs": [],
   "source": []
  },
  {
   "cell_type": "code",
   "execution_count": null,
   "id": "51832a05",
   "metadata": {},
   "outputs": [],
   "source": [
    "Q6. What is the definition of a 180-day moving average?\n",
    "\n"
   ]
  },
  {
   "cell_type": "code",
   "execution_count": null,
   "id": "86b1fa12",
   "metadata": {},
   "outputs": [],
   "source": [
    "  A 180-day moving average is a statistical calculation used to smooth out price fluctuations in a time series data. It represents the average value of a variable over the past 180 days, recalculated for each data point. It is commonly used in technical analysis to identify long-term trends and filter out short-term noise in stock prices.\n"
   ]
  },
  {
   "cell_type": "code",
   "execution_count": null,
   "id": "d6e07ef9",
   "metadata": {},
   "outputs": [],
   "source": []
  },
  {
   "cell_type": "code",
   "execution_count": null,
   "id": "fa76e8e2",
   "metadata": {},
   "outputs": [],
   "source": [
    "Q7. Did the chapter&#39;s final example use &quot;indirect&quot; importing? If so, how exactly do you do it?"
   ]
  },
  {
   "cell_type": "code",
   "execution_count": null,
   "id": "a3a0642a",
   "metadata": {},
   "outputs": [],
   "source": [
    "  The concept of \"indirect\" importing was not explicitly mentioned in the question, so it is unclear what specific example or scenario is being referred to. Indirect importing typically refers to importing modules indirectly through other modules or using dynamic imports based on runtime conditions. To achieve indirect importing, you can use the `importlib.import_module()` function from the `importlib` module or dynamically import modules using the `__import__()` built-in function.\n",
    "    "
   ]
  },
  {
   "cell_type": "code",
   "execution_count": null,
   "id": "5e28540a",
   "metadata": {},
   "outputs": [],
   "source": []
  },
  {
   "cell_type": "code",
   "execution_count": null,
   "id": "217ed787",
   "metadata": {},
   "outputs": [],
   "source": []
  },
  {
   "cell_type": "code",
   "execution_count": null,
   "id": "20de2ad1",
   "metadata": {},
   "outputs": [],
   "source": []
  },
  {
   "cell_type": "code",
   "execution_count": null,
   "id": "1285e87b",
   "metadata": {},
   "outputs": [],
   "source": []
  },
  {
   "cell_type": "code",
   "execution_count": null,
   "id": "8ea72f10",
   "metadata": {},
   "outputs": [],
   "source": []
  },
  {
   "cell_type": "code",
   "execution_count": null,
   "id": "8c0db642",
   "metadata": {},
   "outputs": [],
   "source": []
  },
  {
   "cell_type": "code",
   "execution_count": null,
   "id": "3c265d94",
   "metadata": {},
   "outputs": [],
   "source": []
  },
  {
   "cell_type": "code",
   "execution_count": null,
   "id": "b8c9c084",
   "metadata": {},
   "outputs": [],
   "source": []
  },
  {
   "cell_type": "code",
   "execution_count": null,
   "id": "45ef74ac",
   "metadata": {},
   "outputs": [],
   "source": []
  },
  {
   "cell_type": "code",
   "execution_count": null,
   "id": "4be526a3",
   "metadata": {},
   "outputs": [],
   "source": []
  }
 ],
 "metadata": {
  "kernelspec": {
   "display_name": "Python 3 (ipykernel)",
   "language": "python",
   "name": "python3"
  },
  "language_info": {
   "codemirror_mode": {
    "name": "ipython",
    "version": 3
   },
   "file_extension": ".py",
   "mimetype": "text/x-python",
   "name": "python",
   "nbconvert_exporter": "python",
   "pygments_lexer": "ipython3",
   "version": "3.10.9"
  }
 },
 "nbformat": 4,
 "nbformat_minor": 5
}
