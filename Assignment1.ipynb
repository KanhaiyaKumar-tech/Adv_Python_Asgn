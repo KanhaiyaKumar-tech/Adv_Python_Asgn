{
 "cells": [
  {
   "cell_type": "code",
   "execution_count": null,
   "id": "9bf99e0d",
   "metadata": {},
   "outputs": [],
   "source": []
  },
  {
   "cell_type": "code",
   "execution_count": null,
   "id": "b7dd2cc5",
   "metadata": {},
   "outputs": [],
   "source": [
    "Q1. What is the purpose of Python&#39;s OOP?\n"
   ]
  },
  {
   "cell_type": "code",
   "execution_count": null,
   "id": "76a337ec",
   "metadata": {},
   "outputs": [],
   "source": [
    " The purpose of Python's Object-Oriented Programming (OOP) is to provide a way to structure and organize code by representing real-world entities as objects that have properties (attributes) and behaviors (methods). OOP allows for the creation of reusable and modular code, as well as encapsulation, inheritance, and polymorphism.\n"
   ]
  },
  {
   "cell_type": "code",
   "execution_count": null,
   "id": "f06d3161",
   "metadata": {},
   "outputs": [],
   "source": [
    "Q2. Where does an inheritance search look for an attribute?\n"
   ]
  },
  {
   "cell_type": "code",
   "execution_count": null,
   "id": "5136475b",
   "metadata": {},
   "outputs": [],
   "source": [
    " Inheritance search in Python looks for an attribute first in the instance object itself. If it is not found, it then searches the class of the instance, and if still not found, it continues searching in the superclasses of the class following the method resolution order (MRO) until the attribute is found or an AttributeError is raised.\n"
   ]
  },
  {
   "cell_type": "code",
   "execution_count": null,
   "id": "98370822",
   "metadata": {},
   "outputs": [],
   "source": [
    "Q3. How do you distinguish between a class object and an instance object?\n"
   ]
  },
  {
   "cell_type": "code",
   "execution_count": null,
   "id": "5fc8db47",
   "metadata": {},
   "outputs": [],
   "source": [
    " A class object in Python is the blueprint or template for creating instances of that class. It defines the attributes and methods that the instances will have. An instance object, on the other hand, is a specific occurrence or realization of a class. It is created based on the class object and has its own unique attribute values.\n"
   ]
  },
  {
   "cell_type": "code",
   "execution_count": null,
   "id": "793f4294",
   "metadata": {},
   "outputs": [],
   "source": [
    "Q4. What makes the first argument in a class’s method function special?\n"
   ]
  },
  {
   "cell_type": "code",
   "execution_count": null,
   "id": "7a953b1a",
   "metadata": {},
   "outputs": [],
   "source": [
    " The first argument in a class's method function is conventionally named `self` and refers to the instance object on which the method is being called. This argument is automatically passed when the method is invoked, and it allows the method to access and manipulate the instance's attributes and perform actions specific to that instance.\n"
   ]
  },
  {
   "cell_type": "code",
   "execution_count": null,
   "id": "22f4bc67",
   "metadata": {},
   "outputs": [],
   "source": [
    "Q5. What is the purpose of the __init__ method?\n"
   ]
  },
  {
   "cell_type": "code",
   "execution_count": null,
   "id": "866083ad",
   "metadata": {},
   "outputs": [],
   "source": [
    " The `__init__` method is a special method in Python classes that is automatically called when a new instance of the class is created. It is used to initialize the attributes of the instance by defining them and assigning initial values. The `__init__` method allows for customization and setup of the instance's state upon creation.\n"
   ]
  },
  {
   "cell_type": "code",
   "execution_count": null,
   "id": "d8e5c2f1",
   "metadata": {},
   "outputs": [],
   "source": [
    "Q6. What is the process for creating a class instance?\n"
   ]
  },
  {
   "cell_type": "code",
   "execution_count": null,
   "id": "07d07598",
   "metadata": {},
   "outputs": [],
   "source": [
    " The process for creating a class instance in Python involves the following steps:\n",
    "- Define a class with the desired attributes and methods.\n",
    "- Use the class name followed by parentheses to create a new instance of the class, like calling a function.\n",
    "- Optionally, pass any required arguments to the class's `__init__` method to initialize the instance's attributes.\n",
    "- Assign the newly created instance to a variable to keep a reference to it for further use.\n",
    "\n",
    " \n"
   ]
  },
  {
   "cell_type": "code",
   "execution_count": 1,
   "id": "68dd4484",
   "metadata": {},
   "outputs": [],
   "source": [
    "# Define a class\n",
    "class Person:\n",
    "    def __init__(self, name):\n",
    "        self.name = name\n",
    "\n",
    "# Create an instance of the class\n",
    "person1 = Person(\"Alice\")"
   ]
  },
  {
   "cell_type": "code",
   "execution_count": null,
   "id": "568aac1e",
   "metadata": {},
   "outputs": [],
   "source": []
  },
  {
   "cell_type": "code",
   "execution_count": null,
   "id": "8ef15c31",
   "metadata": {},
   "outputs": [],
   "source": [
    "Q7. What is the process for creating a class?\n"
   ]
  },
  {
   "cell_type": "code",
   "execution_count": null,
   "id": "a2f30a4d",
   "metadata": {},
   "outputs": [],
   "source": [
    "The process for creating a class in Python involves the following steps:\n",
    "- Use the `class` keyword followed by the class name to define the class.\n",
    "- Inside the class definition, define the desired attributes and methods that the class should have.\n",
    "- Optionally, define a constructor method (`__init__`) to initialize the attributes of each instance created from the class.\n",
    "- Optionally, define other methods to provide functionality and behavior to the class.\n",
    "- The class is now ready to be used to create instances.\n",
    " \n"
   ]
  },
  {
   "cell_type": "code",
   "execution_count": null,
   "id": "160f5bdb",
   "metadata": {},
   "outputs": [],
   "source": [
    "# Define a class\n",
    "class Rectangle:\n",
    "    def __init__(self, width, height):\n",
    "        self.width = width\n",
    "        self.height = height\n",
    "\n",
    "    def area(self):\n",
    "        return self.width * self.height\n",
    "\n",
    "# Create instances of the class\n",
    "rectangle1 = Rectangle(4, 5)\n",
    "rectangle2 = Rectangle(3, 6)\n"
   ]
  },
  {
   "cell_type": "code",
   "execution_count": null,
   "id": "342ac940",
   "metadata": {},
   "outputs": [],
   "source": []
  },
  {
   "cell_type": "code",
   "execution_count": null,
   "id": "4bc955fd",
   "metadata": {},
   "outputs": [],
   "source": [
    "Q8. How would you define the superclasses of a class?\n"
   ]
  },
  {
   "cell_type": "code",
   "execution_count": null,
   "id": "19c70f5c",
   "metadata": {},
   "outputs": [],
   "source": [
    "\n",
    " The superclasses of a class are the classes from which it directly inherits. In Python, the superclasses of a class are specified in the parentheses after the class name in the class definition. They are listed in the order of inheritance from left to right. The class inherits attributes and methods from its superclasses, allowing it to reuse and extend their functionality.\n",
    "\n",
    " "
   ]
  },
  {
   "cell_type": "code",
   "execution_count": 2,
   "id": "f3f3d0a7",
   "metadata": {},
   "outputs": [
    {
     "name": "stdout",
     "output_type": "stream",
     "text": [
      "Eating...\n",
      "Walking...\n",
      "Barking...\n"
     ]
    }
   ],
   "source": [
    "\n",
    "# Define superclasses\n",
    "class Animal:\n",
    "    def eat(self):\n",
    "        print(\"Eating...\")\n",
    "\n",
    "class Mammal:\n",
    "    def walk(self):\n",
    "        print(\"Walking...\")\n",
    "\n",
    "# Define a class with multiple superclasses\n",
    "class Dog(Animal, Mammal):\n",
    "    def bark(self):\n",
    "        print(\"Barking...\")\n",
    "\n",
    "# Create an instance of the class\n",
    "dog = Dog()\n",
    "dog.eat()    # Inherits 'eat' method from Animal\n",
    "dog.walk()   # Inherits 'walk' method from Mammal\n",
    "dog.bark()   # Own method in the Dog class\n",
    " "
   ]
  },
  {
   "cell_type": "code",
   "execution_count": null,
   "id": "4c0af01e",
   "metadata": {},
   "outputs": [],
   "source": []
  },
  {
   "cell_type": "code",
   "execution_count": null,
   "id": "3c404d27",
   "metadata": {},
   "outputs": [],
   "source": []
  },
  {
   "cell_type": "code",
   "execution_count": null,
   "id": "ff84e99f",
   "metadata": {},
   "outputs": [],
   "source": []
  },
  {
   "cell_type": "code",
   "execution_count": null,
   "id": "d0de67fe",
   "metadata": {},
   "outputs": [],
   "source": []
  },
  {
   "cell_type": "code",
   "execution_count": null,
   "id": "e003ff1c",
   "metadata": {},
   "outputs": [],
   "source": []
  },
  {
   "cell_type": "code",
   "execution_count": null,
   "id": "f50da810",
   "metadata": {},
   "outputs": [],
   "source": []
  },
  {
   "cell_type": "code",
   "execution_count": null,
   "id": "0f7ffbc0",
   "metadata": {},
   "outputs": [],
   "source": []
  },
  {
   "cell_type": "code",
   "execution_count": null,
   "id": "062cc7a0",
   "metadata": {},
   "outputs": [],
   "source": []
  },
  {
   "cell_type": "code",
   "execution_count": null,
   "id": "f3bb1aaf",
   "metadata": {},
   "outputs": [],
   "source": []
  },
  {
   "cell_type": "code",
   "execution_count": null,
   "id": "43b9f2d4",
   "metadata": {},
   "outputs": [],
   "source": []
  },
  {
   "cell_type": "code",
   "execution_count": null,
   "id": "48a7ffd9",
   "metadata": {},
   "outputs": [],
   "source": []
  },
  {
   "cell_type": "code",
   "execution_count": null,
   "id": "49f0921a",
   "metadata": {},
   "outputs": [],
   "source": []
  },
  {
   "cell_type": "code",
   "execution_count": null,
   "id": "fd07c8ef",
   "metadata": {},
   "outputs": [],
   "source": []
  },
  {
   "cell_type": "code",
   "execution_count": null,
   "id": "ca6461ca",
   "metadata": {},
   "outputs": [],
   "source": []
  },
  {
   "cell_type": "code",
   "execution_count": null,
   "id": "7e2f7213",
   "metadata": {},
   "outputs": [],
   "source": []
  },
  {
   "cell_type": "code",
   "execution_count": null,
   "id": "475f40c0",
   "metadata": {},
   "outputs": [],
   "source": []
  },
  {
   "cell_type": "code",
   "execution_count": null,
   "id": "00d8fd6c",
   "metadata": {},
   "outputs": [],
   "source": []
  },
  {
   "cell_type": "code",
   "execution_count": null,
   "id": "71ea4e6e",
   "metadata": {},
   "outputs": [],
   "source": []
  }
 ],
 "metadata": {
  "kernelspec": {
   "display_name": "Python 3 (ipykernel)",
   "language": "python",
   "name": "python3"
  },
  "language_info": {
   "codemirror_mode": {
    "name": "ipython",
    "version": 3
   },
   "file_extension": ".py",
   "mimetype": "text/x-python",
   "name": "python",
   "nbconvert_exporter": "python",
   "pygments_lexer": "ipython3",
   "version": "3.10.9"
  }
 },
 "nbformat": 4,
 "nbformat_minor": 5
}
