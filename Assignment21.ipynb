{
 "cells": [
  {
   "cell_type": "code",
   "execution_count": null,
   "id": "53cec24f",
   "metadata": {},
   "outputs": [],
   "source": []
  },
  {
   "cell_type": "code",
   "execution_count": null,
   "id": "40ebded5",
   "metadata": {},
   "outputs": [],
   "source": [
    "Q1. What is a probability distribution, exactly? If the values are meant to be random, how can you\n",
    "predict them at all?\n",
    "\n"
   ]
  },
  {
   "cell_type": "code",
   "execution_count": null,
   "id": "8df2e8ab",
   "metadata": {},
   "outputs": [],
   "source": [
    "  A probability distribution is a mathematical function or model that describes the likelihood of different outcomes in a random experiment or event. It provides a way to predict the probabilities of various outcomes occurring based on the underlying probability model. While the individual values may be random, the distribution itself follows a specific pattern or shape that allows us to make probabilistic predictions.\n",
    "\n"
   ]
  },
  {
   "cell_type": "code",
   "execution_count": null,
   "id": "5987b064",
   "metadata": {},
   "outputs": [],
   "source": []
  },
  {
   "cell_type": "code",
   "execution_count": null,
   "id": "eea3da80",
   "metadata": {},
   "outputs": [],
   "source": [
    "Q2. Is there a distinction between true random numbers and pseudo-random numbers, if there is\n",
    "one? Why are the latter considered “good enough”?\n",
    "\n"
   ]
  },
  {
   "cell_type": "code",
   "execution_count": null,
   "id": "bd158578",
   "metadata": {},
   "outputs": [],
   "source": [
    "  There is a distinction between true random numbers and pseudo-random numbers. True random numbers are generated from unpredictable physical processes, such as radioactive decay or atmospheric noise. They are inherently random and cannot be predicted or reproduced. On the other hand, pseudo-random numbers are generated using deterministic algorithms that produce a sequence of numbers that appear to be random but are actually determined by an initial seed value. While pseudo-random numbers are not truly random, they are considered \"good enough\" for many practical applications where randomness is needed, such as simulations or cryptography.\n"
   ]
  },
  {
   "cell_type": "code",
   "execution_count": null,
   "id": "cdc37695",
   "metadata": {},
   "outputs": [],
   "source": []
  },
  {
   "cell_type": "code",
   "execution_count": null,
   "id": "d4f822eb",
   "metadata": {},
   "outputs": [],
   "source": [
    "Q3. What are the two main factors that influence the behaviour of a &quot;normal&quot; probability distribution?\n",
    "\n"
   ]
  },
  {
   "cell_type": "code",
   "execution_count": null,
   "id": "8cf4f8fe",
   "metadata": {},
   "outputs": [],
   "source": [
    "  The two main factors that influence the behavior of a \"normal\" probability distribution are the mean (average) and the standard deviation. The mean determines the central tendency or the peak of the distribution, while the standard deviation controls the spread or dispersion of the values around the mean.\n"
   ]
  },
  {
   "cell_type": "code",
   "execution_count": null,
   "id": "474b34c0",
   "metadata": {},
   "outputs": [],
   "source": []
  },
  {
   "cell_type": "code",
   "execution_count": null,
   "id": "8def362f",
   "metadata": {},
   "outputs": [],
   "source": [
    "Q4. Provide a real-life example of a normal distribution.\n",
    "\n"
   ]
  },
  {
   "cell_type": "code",
   "execution_count": null,
   "id": "95d0e829",
   "metadata": {},
   "outputs": [],
   "source": [
    "  A real-life example of a normal distribution is the distribution of heights or weights of a large population. In such cases, the majority of individuals tend to cluster around the average height or weight, resulting in a bell-shaped curve. This is often referred to as a \"normal\" distribution or Gaussian distribution.\n"
   ]
  },
  {
   "cell_type": "code",
   "execution_count": null,
   "id": "d2513a8d",
   "metadata": {},
   "outputs": [],
   "source": []
  },
  {
   "cell_type": "code",
   "execution_count": null,
   "id": "0e6a952c",
   "metadata": {},
   "outputs": [],
   "source": [
    "Q5. In the short term, how can you expect a probability distribution to behave? What do you think will\n",
    "happen as the number of trials grows?\n",
    "\n"
   ]
  },
  {
   "cell_type": "code",
   "execution_count": null,
   "id": "f1f004f3",
   "metadata": {},
   "outputs": [],
   "source": [
    "  In the short term, the behavior of a probability distribution may vary due to randomness. However, as the number of trials or samples increases, the distribution tends to converge to its expected or theoretical shape. This is known as the law of large numbers, which states that with a large enough sample size, the observed frequencies of different outcomes will approach their expected probabilities.\n"
   ]
  },
  {
   "cell_type": "code",
   "execution_count": null,
   "id": "93a0b975",
   "metadata": {},
   "outputs": [],
   "source": []
  },
  {
   "cell_type": "code",
   "execution_count": null,
   "id": "e7279e08",
   "metadata": {},
   "outputs": [],
   "source": [
    "Q6. What kind of object can be shuffled by using random.shuffle?\n",
    "\n"
   ]
  },
  {
   "cell_type": "code",
   "execution_count": null,
   "id": "65b8b35d",
   "metadata": {},
   "outputs": [],
   "source": [
    "  The `random.shuffle` function in Python can shuffle any mutable sequence object, such as a list. It randomly reorders the elements within the sequence.\n"
   ]
  },
  {
   "cell_type": "code",
   "execution_count": null,
   "id": "c85ef07a",
   "metadata": {},
   "outputs": [],
   "source": []
  },
  {
   "cell_type": "code",
   "execution_count": null,
   "id": "a7989264",
   "metadata": {},
   "outputs": [],
   "source": [
    "Q7. Describe the math package&#39;s general categories of functions.\n",
    "\n"
   ]
  },
  {
   "cell_type": "code",
   "execution_count": null,
   "id": "e9c91662",
   "metadata": {},
   "outputs": [],
   "source": [
    "  The math package in Python provides general categories of mathematical functions, including functions for basic arithmetic operations (e.g., `math.sqrt`, `math.pow`), trigonometric functions (e.g., `math.sin`, `math.cos`), logarithmic functions (e.g., `math.log`, `math.log10`), exponential functions (e.g., `math.exp`), and more.\n"
   ]
  },
  {
   "cell_type": "code",
   "execution_count": null,
   "id": "62dc3c3f",
   "metadata": {},
   "outputs": [],
   "source": []
  },
  {
   "cell_type": "code",
   "execution_count": null,
   "id": "f4662641",
   "metadata": {},
   "outputs": [],
   "source": [
    "Q8. What is the relationship between exponentiation and logarithms?\n",
    "\n"
   ]
  },
  {
   "cell_type": "code",
   "execution_count": null,
   "id": "1cfc6b79",
   "metadata": {},
   "outputs": [],
   "source": [
    "  Exponentiation and logarithms are inverse operations of each other. Exponentiation involves raising a base number to a certain power, while logarithms determine the exponent needed to produce a given result. For example, if `b` is the base, `x` is the exponent, and `y` is the result of the exponentiation, then logarithms help us find the value of `x` when given `b` and `y` (i.e., `x = log_b(y)`).\n"
   ]
  },
  {
   "cell_type": "code",
   "execution_count": null,
   "id": "0d8610b0",
   "metadata": {},
   "outputs": [],
   "source": []
  },
  {
   "cell_type": "code",
   "execution_count": null,
   "id": "efa2a210",
   "metadata": {},
   "outputs": [],
   "source": [
    "Q9. What are the three logarithmic functions that Python supports?"
   ]
  },
  {
   "cell_type": "code",
   "execution_count": null,
   "id": "ce8d3e18",
   "metadata": {},
   "outputs": [],
   "source": [
    " Python supports three logarithmic functions in the math package: `math.log(x)` calculates the natural logarithm (base e) of `x`, `math.log10(x)` calculates the logarithm base 10 of `x`, and `math.log(x, base)` allows you to calculate the logarithm of `x` with a custom base specified as the second argument."
   ]
  },
  {
   "cell_type": "code",
   "execution_count": null,
   "id": "4ed48e38",
   "metadata": {},
   "outputs": [],
   "source": []
  },
  {
   "cell_type": "code",
   "execution_count": null,
   "id": "3b5fef4f",
   "metadata": {},
   "outputs": [],
   "source": []
  },
  {
   "cell_type": "code",
   "execution_count": null,
   "id": "fd2a9e8a",
   "metadata": {},
   "outputs": [],
   "source": []
  },
  {
   "cell_type": "code",
   "execution_count": null,
   "id": "df5f6d51",
   "metadata": {},
   "outputs": [],
   "source": []
  }
 ],
 "metadata": {
  "kernelspec": {
   "display_name": "Python 3 (ipykernel)",
   "language": "python",
   "name": "python3"
  },
  "language_info": {
   "codemirror_mode": {
    "name": "ipython",
    "version": 3
   },
   "file_extension": ".py",
   "mimetype": "text/x-python",
   "name": "python",
   "nbconvert_exporter": "python",
   "pygments_lexer": "ipython3",
   "version": "3.10.9"
  }
 },
 "nbformat": 4,
 "nbformat_minor": 5
}
