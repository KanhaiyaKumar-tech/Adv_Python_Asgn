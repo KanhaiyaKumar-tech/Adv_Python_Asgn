{
 "cells": [
  {
   "cell_type": "code",
   "execution_count": null,
   "id": "252850f3",
   "metadata": {},
   "outputs": [],
   "source": []
  },
  {
   "cell_type": "code",
   "execution_count": null,
   "id": "d2908bec",
   "metadata": {},
   "outputs": [],
   "source": [
    "Q1. Explain the difference between greedy and non-greedy syntax with visual terms in as few words\n",
    "as possible. What is the bare minimum effort required to transform a greedy pattern into a non-greedy\n",
    "one? What characters or characters can you introduce or change?\n",
    "\n",
    "\n"
   ]
  },
  {
   "cell_type": "code",
   "execution_count": null,
   "id": "5f86efa0",
   "metadata": {},
   "outputs": [],
   "source": [
    " Greedy syntax matches as much as possible, while non-greedy syntax matches as little as possible. To transform a greedy pattern into a non-greedy one, you can introduce a question mark (?) after the quantifier. For example, changing `*` to `*?` or `+` to `+?` makes the pattern non-greedy.\n"
   ]
  },
  {
   "cell_type": "code",
   "execution_count": null,
   "id": "8cebc143",
   "metadata": {},
   "outputs": [],
   "source": []
  },
  {
   "cell_type": "code",
   "execution_count": null,
   "id": "edcf848b",
   "metadata": {},
   "outputs": [],
   "source": [
    "Q2. When exactly does greedy versus non-greedy make a difference?  What if you&#39;re looking for a\n",
    "non-greedy match but the only one available is greedy?\n"
   ]
  },
  {
   "cell_type": "code",
   "execution_count": null,
   "id": "588701d5",
   "metadata": {},
   "outputs": [],
   "source": [
    " Greedy versus non-greedy makes a difference when there are multiple possible matches in a string. If you're looking for a non-greedy match but the only one available is greedy, you can modify the pattern to make it non-greedy by adding a question mark (?) after the quantifier.\n"
   ]
  },
  {
   "cell_type": "code",
   "execution_count": null,
   "id": "155e2c84",
   "metadata": {},
   "outputs": [],
   "source": []
  },
  {
   "cell_type": "code",
   "execution_count": null,
   "id": "118e7ad7",
   "metadata": {},
   "outputs": [],
   "source": [
    "Q3. In a simple match of a string, which looks only for one match and does not do any replacement, is\n",
    "the use of a nontagged group likely to make any practical difference?\n"
   ]
  },
  {
   "cell_type": "code",
   "execution_count": null,
   "id": "d3d54b51",
   "metadata": {},
   "outputs": [],
   "source": [
    "  In a simple match of a string without replacement, using a non-tagged group is not likely to make a practical difference. Non-tagged groups are useful when you want to capture a specific part of the match and refer to it later.\n"
   ]
  },
  {
   "cell_type": "code",
   "execution_count": null,
   "id": "fb148622",
   "metadata": {},
   "outputs": [],
   "source": []
  },
  {
   "cell_type": "code",
   "execution_count": null,
   "id": "c39b41ef",
   "metadata": {},
   "outputs": [],
   "source": [
    "Q4. Describe a scenario in which using a nontagged category would have a significant impact on the\n",
    "program&#39;s outcomes.\n"
   ]
  },
  {
   "cell_type": "code",
   "execution_count": null,
   "id": "aac3f24a",
   "metadata": {},
   "outputs": [],
   "source": [
    "  A scenario where using a non-tagged category (character class) would have a significant impact is when you want to match any character that is not in a specific category. For example, if you want to match any character that is not a digit, using a non-tagged category like `[^0-9]` would give different results compared to using a tagged category like `\\D`.\n"
   ]
  },
  {
   "cell_type": "code",
   "execution_count": null,
   "id": "6d388361",
   "metadata": {},
   "outputs": [],
   "source": []
  },
  {
   "cell_type": "code",
   "execution_count": null,
   "id": "49c21dd7",
   "metadata": {},
   "outputs": [],
   "source": [
    "Q5. Unlike a normal regex pattern, a look-ahead condition does not consume the characters it\n",
    "examines. Describe a situation in which this could make a difference in the results of your\n",
    "programme."
   ]
  },
  {
   "cell_type": "code",
   "execution_count": null,
   "id": "a54d3757",
   "metadata": {},
   "outputs": [],
   "source": [
    " The look-ahead condition in regex does not consume the characters it examines. This can make a difference in the results of a program when you want to find matches that are followed by or not followed by specific patterns, without including the specific patterns in the final match.\n"
   ]
  },
  {
   "cell_type": "code",
   "execution_count": null,
   "id": "ea41cc76",
   "metadata": {},
   "outputs": [],
   "source": []
  },
  {
   "cell_type": "code",
   "execution_count": null,
   "id": "f2daccca",
   "metadata": {},
   "outputs": [],
   "source": [
    "Q6. In standard expressions, what is the difference between positive look-ahead and negative look-\n",
    "ahead?"
   ]
  },
  {
   "cell_type": "code",
   "execution_count": null,
   "id": "db538736",
   "metadata": {},
   "outputs": [],
   "source": [
    "  Positive look-ahead (`(?=...)`) in regex matches a group of characters only if it is followed by another pattern. Negative look-ahead (`(?!...)`) matches a group of characters only if it is not followed by another pattern.\n"
   ]
  },
  {
   "cell_type": "code",
   "execution_count": null,
   "id": "f5fd76f4",
   "metadata": {},
   "outputs": [],
   "source": [
    "Q7. What is the benefit of referring to groups by name rather than by number in a standard\n",
    "expression?"
   ]
  },
  {
   "cell_type": "code",
   "execution_count": null,
   "id": "12ced119",
   "metadata": {},
   "outputs": [],
   "source": [
    "  Referring to groups by name in a standard expression provides several benefits, including increased readability and code maintainability. It makes the intention of the pattern clearer and reduces the dependency on the order of groups in the pattern. Additionally, named groups can be accessed by their names in the match object, making it easier to extract specific captured information.\n"
   ]
  },
  {
   "cell_type": "code",
   "execution_count": null,
   "id": "47e21a4b",
   "metadata": {},
   "outputs": [],
   "source": [
    "\n",
    "\n",
    "Q8. Can you identify repeated items within a target string using named groups, as in &quot;The cow\n",
    "jumped over the moon&quot;?\n",
    "\n"
   ]
  },
  {
   "cell_type": "code",
   "execution_count": null,
   "id": "81936bec",
   "metadata": {},
   "outputs": [],
   "source": [
    "  Yes, you can identify repeated items within a target string using named groups. For example, in the string \"The cow jumped over the moon\", you can use a named group to capture repeated words like `\\b(?P<word>\\w+)\\b(?P=word)`.\n"
   ]
  },
  {
   "cell_type": "code",
   "execution_count": null,
   "id": "8527d29e",
   "metadata": {},
   "outputs": [],
   "source": []
  },
  {
   "cell_type": "code",
   "execution_count": null,
   "id": "1299eeea",
   "metadata": {},
   "outputs": [],
   "source": [
    "Q9. When parsing a string, what is at least one thing that the Scanner interface does for you that the\n",
    "re.findall feature does not?\n",
    "\n"
   ]
  },
  {
   "cell_type": "code",
   "execution_count": null,
   "id": "7b3ea4de",
   "metadata": {},
   "outputs": [],
   "source": [
    "  When parsing a string, the Scanner interface in Python provides advanced tokenizing capabilities, allowing you to break the input into meaningful tokens. It can handle more complex patterns and provides additional methods like `match()` and `search()`. The `re.findall` feature, on the other hand, simply returns all non-overlapping matches of a pattern in a string.\n"
   ]
  },
  {
   "cell_type": "code",
   "execution_count": null,
   "id": "4c5e9577",
   "metadata": {},
   "outputs": [],
   "source": []
  },
  {
   "cell_type": "code",
   "execution_count": null,
   "id": "f3a70497",
   "metadata": {},
   "outputs": [],
   "source": [
    "Q10. Does a scanner object have to be named scanner?"
   ]
  },
  {
   "cell_type": "code",
   "execution_count": null,
   "id": "6fcebe21",
   "metadata": {},
   "outputs": [],
   "source": [
    " No, a Scanner object does not have to be named \"scanner\". The name of the object is arbitrary and can be chosen based on the programmer's preference and the context of the program."
   ]
  },
  {
   "cell_type": "code",
   "execution_count": null,
   "id": "b637bc4a",
   "metadata": {},
   "outputs": [],
   "source": []
  },
  {
   "cell_type": "code",
   "execution_count": null,
   "id": "c02ba33d",
   "metadata": {},
   "outputs": [],
   "source": []
  },
  {
   "cell_type": "code",
   "execution_count": null,
   "id": "40b38073",
   "metadata": {},
   "outputs": [],
   "source": []
  },
  {
   "cell_type": "code",
   "execution_count": null,
   "id": "9076eb1b",
   "metadata": {},
   "outputs": [],
   "source": []
  },
  {
   "cell_type": "code",
   "execution_count": null,
   "id": "1bcc76bc",
   "metadata": {},
   "outputs": [],
   "source": []
  },
  {
   "cell_type": "code",
   "execution_count": null,
   "id": "ce0f364e",
   "metadata": {},
   "outputs": [],
   "source": []
  },
  {
   "cell_type": "code",
   "execution_count": null,
   "id": "7c9161d5",
   "metadata": {},
   "outputs": [],
   "source": []
  },
  {
   "cell_type": "code",
   "execution_count": null,
   "id": "50b15faf",
   "metadata": {},
   "outputs": [],
   "source": []
  },
  {
   "cell_type": "code",
   "execution_count": null,
   "id": "c6a97519",
   "metadata": {},
   "outputs": [],
   "source": []
  },
  {
   "cell_type": "code",
   "execution_count": null,
   "id": "d1a432da",
   "metadata": {},
   "outputs": [],
   "source": []
  },
  {
   "cell_type": "code",
   "execution_count": null,
   "id": "74ff47fb",
   "metadata": {},
   "outputs": [],
   "source": []
  }
 ],
 "metadata": {
  "kernelspec": {
   "display_name": "Python 3 (ipykernel)",
   "language": "python",
   "name": "python3"
  },
  "language_info": {
   "codemirror_mode": {
    "name": "ipython",
    "version": 3
   },
   "file_extension": ".py",
   "mimetype": "text/x-python",
   "name": "python",
   "nbconvert_exporter": "python",
   "pygments_lexer": "ipython3",
   "version": "3.10.9"
  }
 },
 "nbformat": 4,
 "nbformat_minor": 5
}
