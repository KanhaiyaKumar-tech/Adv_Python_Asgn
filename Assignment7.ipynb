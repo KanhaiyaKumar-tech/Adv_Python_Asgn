{
 "cells": [
  {
   "cell_type": "code",
   "execution_count": null,
   "id": "3582ed43",
   "metadata": {},
   "outputs": [],
   "source": []
  },
  {
   "cell_type": "code",
   "execution_count": null,
   "id": "779d4f89",
   "metadata": {},
   "outputs": [],
   "source": [
    "Q1. What is the purpose of the try statement?\n",
    "\n",
    " "
   ]
  },
  {
   "cell_type": "code",
   "execution_count": null,
   "id": "0ce38161",
   "metadata": {},
   "outputs": [],
   "source": [
    "The try statement is used to execute a block of code and to handle any exceptions that occur. The try statement has three clauses:\n",
    "\n",
    "The try clause: This is the block of code that is executed.\n",
    "The except clause: This is the block of code that is executed if an exception occurs.\n",
    "The finally clause: This is the block of code that is executed regardless of whether or not an exception occurs."
   ]
  },
  {
   "cell_type": "code",
   "execution_count": null,
   "id": "bc8a46ee",
   "metadata": {},
   "outputs": [],
   "source": []
  },
  {
   "cell_type": "code",
   "execution_count": null,
   "id": "eb954b1b",
   "metadata": {},
   "outputs": [],
   "source": [
    " \n",
    "\n",
    "Q2. What are the two most popular try statement variations?\n",
    "\n",
    " "
   ]
  },
  {
   "cell_type": "code",
   "execution_count": null,
   "id": "804f249e",
   "metadata": {},
   "outputs": [],
   "source": [
    "The two most popular try statement variations are:\n",
    "\n",
    "The try-except statement: This is the basic try statement. It has a try clause and an except clause.\n",
    "The try-except-else statement: This is a variation of the try-except statement. It has a try clause, an except clause, and an else clause. The else clause is executed if no exception occurs."
   ]
  },
  {
   "cell_type": "code",
   "execution_count": null,
   "id": "36a22f8c",
   "metadata": {},
   "outputs": [],
   "source": []
  },
  {
   "cell_type": "code",
   "execution_count": null,
   "id": "7e8c667c",
   "metadata": {},
   "outputs": [],
   "source": [
    " \n",
    "Q3. What is the purpose of the raise statement?\n",
    "\n",
    " "
   ]
  },
  {
   "cell_type": "code",
   "execution_count": null,
   "id": "c4f44888",
   "metadata": {},
   "outputs": [],
   "source": [
    "The raise statement is used to raise an exception. An exception is an event that occurs during the execution of a program that indicates that something went wrong. When an exception is raised, the program will stop executing and the exception will be handled by the except clause."
   ]
  },
  {
   "cell_type": "code",
   "execution_count": null,
   "id": "2855da65",
   "metadata": {},
   "outputs": [],
   "source": []
  },
  {
   "cell_type": "code",
   "execution_count": null,
   "id": "a055ce20",
   "metadata": {},
   "outputs": [],
   "source": [
    " \n",
    "\n",
    "Q4. What does the assert statement do, and what other statement is it like?\n",
    "\n"
   ]
  },
  {
   "cell_type": "code",
   "execution_count": null,
   "id": "01c36e56",
   "metadata": {},
   "outputs": [],
   "source": [
    "The assert statement is used to test a condition. If the condition is not met, an exception is raised. The assert statement is similar to the if statement, but the assert statement always raises an exception if the condition is not met."
   ]
  },
  {
   "cell_type": "code",
   "execution_count": null,
   "id": "eabb5bda",
   "metadata": {},
   "outputs": [],
   "source": []
  },
  {
   "cell_type": "code",
   "execution_count": null,
   "id": "afa48db1",
   "metadata": {},
   "outputs": [],
   "source": [
    "Q5. What is the purpose of the with/as argument, and what other statement is it like?\n"
   ]
  },
  {
   "cell_type": "code",
   "execution_count": null,
   "id": "5e1f4f47",
   "metadata": {},
   "outputs": [],
   "source": [
    "The with/as argument is used to manage resources. Resources are things like files, databases, and network connections. The with/as argument allows you to ensure that resources are closed properly, even if an exception occurs.\n",
    "\n",
    "The with/as argument is similar to the try/finally statement, but the with/as argument is more concise and easier to use."
   ]
  },
  {
   "cell_type": "code",
   "execution_count": null,
   "id": "a5241fe6",
   "metadata": {},
   "outputs": [],
   "source": []
  },
  {
   "cell_type": "code",
   "execution_count": null,
   "id": "e6c43718",
   "metadata": {},
   "outputs": [],
   "source": []
  },
  {
   "cell_type": "code",
   "execution_count": null,
   "id": "6bc86b6c",
   "metadata": {},
   "outputs": [],
   "source": []
  },
  {
   "cell_type": "code",
   "execution_count": null,
   "id": "9c367e30",
   "metadata": {},
   "outputs": [],
   "source": []
  },
  {
   "cell_type": "code",
   "execution_count": null,
   "id": "826f5174",
   "metadata": {},
   "outputs": [],
   "source": []
  },
  {
   "cell_type": "code",
   "execution_count": null,
   "id": "80b5a467",
   "metadata": {},
   "outputs": [],
   "source": []
  },
  {
   "cell_type": "code",
   "execution_count": null,
   "id": "7d759307",
   "metadata": {},
   "outputs": [],
   "source": []
  }
 ],
 "metadata": {
  "kernelspec": {
   "display_name": "Python 3 (ipykernel)",
   "language": "python",
   "name": "python3"
  },
  "language_info": {
   "codemirror_mode": {
    "name": "ipython",
    "version": 3
   },
   "file_extension": ".py",
   "mimetype": "text/x-python",
   "name": "python",
   "nbconvert_exporter": "python",
   "pygments_lexer": "ipython3",
   "version": "3.10.9"
  }
 },
 "nbformat": 4,
 "nbformat_minor": 5
}
