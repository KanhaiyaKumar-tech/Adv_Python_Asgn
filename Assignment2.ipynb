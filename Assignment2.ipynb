{
 "cells": [
  {
   "cell_type": "code",
   "execution_count": null,
   "id": "7bd2b6c1",
   "metadata": {},
   "outputs": [],
   "source": []
  },
  {
   "cell_type": "code",
   "execution_count": null,
   "id": "65d2eb4d",
   "metadata": {},
   "outputs": [],
   "source": [
    "Q1. What is the relationship between classes and modules?\n",
    "\n"
   ]
  },
  {
   "cell_type": "code",
   "execution_count": null,
   "id": "69d005d5",
   "metadata": {},
   "outputs": [],
   "source": [
    " The relationship between classes and modules in Python is that a module is a file containing Python code, and it can include class definitions along with other definitions like functions and variables. A module can serve as a container for related classes, grouping them together in a single file for organization and reusability. Classes define objects with specific behaviors and attributes, while modules provide a way to organize and package related classes and other code elements.\n",
    "\n"
   ]
  },
  {
   "cell_type": "code",
   "execution_count": null,
   "id": "b32e453a",
   "metadata": {},
   "outputs": [],
   "source": []
  },
  {
   "cell_type": "code",
   "execution_count": null,
   "id": "3c962112",
   "metadata": {},
   "outputs": [],
   "source": [
    "Q2. How do you make instances and classes?\n",
    "\n"
   ]
  },
  {
   "cell_type": "code",
   "execution_count": null,
   "id": "8aad11bf",
   "metadata": {},
   "outputs": [],
   "source": [
    " To make instances in Python, you first need to define a class. An instance is an object created from a class. To create an instance, you simply call the class as if it were a function, passing any required arguments to the class's constructor (usually the `__init__` method). The instance is then created and assigned to a variable. \n",
    "\n",
    "To make classes, you define a class using the `class` keyword followed by the class name and a colon. Inside the class definition, you can define attributes (data) and methods (functions) that belong to the class. Instances of the class can be created from the class definition.\n"
   ]
  },
  {
   "cell_type": "code",
   "execution_count": 1,
   "id": "a5bc342b",
   "metadata": {},
   "outputs": [
    {
     "name": "stdout",
     "output_type": "stream",
     "text": [
      "Hello, my name is Alice\n"
     ]
    }
   ],
   "source": [
    "# Define a class\n",
    "class Person:\n",
    "    def __init__(self, name):\n",
    "        self.name = name\n",
    "\n",
    "    def greet(self):\n",
    "        print(\"Hello, my name is\", self.name)\n",
    "\n",
    "# Create an instance of the class\n",
    "person1 = Person(\"Alice\")\n",
    "\n",
    "# Call a method on the instance\n",
    "person1.greet()\n",
    "\n"
   ]
  },
  {
   "cell_type": "code",
   "execution_count": null,
   "id": "149f40d4",
   "metadata": {},
   "outputs": [],
   "source": [
    "Q3. Where and how should be class attributes created?\n",
    "\n"
   ]
  },
  {
   "cell_type": "code",
   "execution_count": null,
   "id": "40f80642",
   "metadata": {},
   "outputs": [],
   "source": [
    "Class attributes should be created within the class definition, typically outside of any method. They are defined directly within the class body and are shared among all instances of the class. Class attributes are accessed using the class name or an instance of the class. They are typically used to define properties or constants that are shared by all instances.\n",
    "\n",
    " \n"
   ]
  },
  {
   "cell_type": "code",
   "execution_count": 2,
   "id": "62237c8e",
   "metadata": {},
   "outputs": [
    {
     "name": "stdout",
     "output_type": "stream",
     "text": [
      "3.14\n",
      "5\n",
      "3\n"
     ]
    }
   ],
   "source": [
    "class Circle:\n",
    "    pi = 3.14  # Class attribute\n",
    "\n",
    "    def __init__(self, radius):\n",
    "        self.radius = radius  # Instance attribute\n",
    "\n",
    "    def area(self):\n",
    "        return self.pi * self.radius * self.radius\n",
    "\n",
    "# Accessing class attribute\n",
    "print(Circle.pi)  # Output: 3.14\n",
    "\n",
    "# Creating instances\n",
    "circle1 = Circle(5)\n",
    "circle2 = Circle(3)\n",
    "\n",
    "# Accessing instance attributes\n",
    "print(circle1.radius)  # Output: 5\n",
    "print(circle2.radius)  # Output: 3\n"
   ]
  },
  {
   "cell_type": "code",
   "execution_count": null,
   "id": "03258458",
   "metadata": {},
   "outputs": [],
   "source": [
    "Q4. Where and how are instance attributes created?\n",
    "\n"
   ]
  },
  {
   "cell_type": "code",
   "execution_count": null,
   "id": "d44d18e3",
   "metadata": {},
   "outputs": [],
   "source": [
    " Instance attributes are created within the `__init__` method of a class. They are specific to each instance of the class and are assigned using the `self` keyword. Each instance can have different attribute values. Instance attributes are accessed using the dot notation, i.e., `instance_name.attribute_name`.\n",
    "\n"
   ]
  },
  {
   "cell_type": "code",
   "execution_count": 3,
   "id": "6c289f71",
   "metadata": {},
   "outputs": [
    {
     "name": "stdout",
     "output_type": "stream",
     "text": [
      "Alice\n",
      "30\n"
     ]
    }
   ],
   "source": [
    "class Person:\n",
    "    def __init__(self, name, age):\n",
    "        self.name = name  # Instance attribute\n",
    "        self.age = age    # Instance attribute\n",
    "\n",
    "person1 = Person(\"Alice\", 25)\n",
    "person2 = Person(\"Bob\", 30)\n",
    "\n",
    "print(person1.name)  # Output: Alice\n",
    "print(person2.age)   # Output: 30\n"
   ]
  },
  {
   "cell_type": "code",
   "execution_count": null,
   "id": "a5108417",
   "metadata": {},
   "outputs": [],
   "source": [
    "Q5. What does the term &quot;self&quot; in a Python class mean?\n",
    "\n"
   ]
  },
  {
   "cell_type": "code",
   "execution_count": null,
   "id": "1ffb5202",
   "metadata": {},
   "outputs": [],
   "source": [
    " In a Python class, the term \"self\" refers to the instance of the class itself. It is a convention to use the name \"self\" as the first parameter of instance methods within a class. By using \"self\", you can access the instance's attributes and methods from within the class. It acts as a reference to the instance, allowing you to work with its data and perform actions specific to that instance.\n"
   ]
  },
  {
   "cell_type": "code",
   "execution_count": null,
   "id": "9c13ef91",
   "metadata": {},
   "outputs": [],
   "source": []
  },
  {
   "cell_type": "code",
   "execution_count": null,
   "id": "42f828a6",
   "metadata": {},
   "outputs": [],
   "source": [
    "Q6. How does a Python class handle operator overloading?\n",
    "\n"
   ]
  },
  {
   "cell_type": "code",
   "execution_count": null,
   "id": "6f61fea7",
   "metadata": {},
   "outputs": [],
   "source": [
    " Python classes handle operator overloading through special methods also known as magic methods or dunder methods (double underscore methods). These methods have predefined names and are used to define the behavior of operators when applied to instances of the class. For example, the `__add__` method can be defined to specify how the addition operator `+` should work for instances of a class.\n",
    "\n"
   ]
  },
  {
   "cell_type": "code",
   "execution_count": null,
   "id": "12a85d55",
   "metadata": {},
   "outputs": [],
   "source": []
  },
  {
   "cell_type": "code",
   "execution_count": null,
   "id": "1a067697",
   "metadata": {},
   "outputs": [],
   "source": [
    "Q7. When do you consider allowing operator overloading of your classes?\n",
    "\n"
   ]
  },
  {
   "cell_type": "code",
   "execution_count": null,
   "id": "d18ca46c",
   "metadata": {},
   "outputs": [],
   "source": [
    " Operator overloading should be considered when you want to define custom behavior for operators in your class. It allows you to provide intuitive and meaningful operations for your class instances. By overloading operators, you can make instances of your class work with built-in Python operators, making your code more expressive and readable.\n",
    "\n"
   ]
  },
  {
   "cell_type": "code",
   "execution_count": null,
   "id": "ffacaa0e",
   "metadata": {},
   "outputs": [],
   "source": []
  },
  {
   "cell_type": "code",
   "execution_count": null,
   "id": "b9c1deba",
   "metadata": {},
   "outputs": [],
   "source": [
    "Q8. What is the most popular form of operator overloading?\n",
    "\n"
   ]
  },
  {
   "cell_type": "code",
   "execution_count": null,
   "id": "fecc436a",
   "metadata": {},
   "outputs": [],
   "source": [
    " The most popular form of operator overloading in Python is the `__add__` method, which is used to define the behavior of the addition operator (`+`) for instances of a class. This allows instances to be added together using the `+` operator in a way that makes sense for the class.\n"
   ]
  },
  {
   "cell_type": "code",
   "execution_count": null,
   "id": "d1630cc3",
   "metadata": {},
   "outputs": [],
   "source": []
  },
  {
   "cell_type": "code",
   "execution_count": null,
   "id": "dccbcc7d",
   "metadata": {},
   "outputs": [],
   "source": [
    "Q9. What are the two most important concepts to grasp in order to comprehend Python OOP code?\n"
   ]
  },
  {
   "cell_type": "code",
   "execution_count": null,
   "id": "d70678ff",
   "metadata": {},
   "outputs": [],
   "source": [
    " The two most important concepts to grasp in order to comprehend Python OOP code are:\n",
    "\n",
    "1. Classes and Objects: Understanding the concept of classes and objects is crucial in OOP. A class is a blueprint or template that defines the structure and behavior of objects, while an object is an instance of a class. Classes define attributes (data) and methods (functions) that objects can have and perform. Understanding how to define classes, create instances, and work with attributes and methods is essential.\n",
    "\n",
    "2. Inheritance and Polymorphism: Inheritance allows classes to inherit attributes and methods from other classes, creating a hierarchy of classes. This promotes code reuse and enables the creation of specialized classes based on existing ones. Polymorphism allows objects of different classes to be treated as objects of a common superclass. It enables the use of a common interface to work with different objects interchangeably, providing flexibility and modularity in code design."
   ]
  },
  {
   "cell_type": "code",
   "execution_count": null,
   "id": "cc72bd71",
   "metadata": {},
   "outputs": [],
   "source": []
  },
  {
   "cell_type": "code",
   "execution_count": null,
   "id": "5bd56357",
   "metadata": {},
   "outputs": [],
   "source": []
  },
  {
   "cell_type": "code",
   "execution_count": null,
   "id": "e033c048",
   "metadata": {},
   "outputs": [],
   "source": []
  },
  {
   "cell_type": "code",
   "execution_count": null,
   "id": "a101662b",
   "metadata": {},
   "outputs": [],
   "source": []
  },
  {
   "cell_type": "code",
   "execution_count": null,
   "id": "6abdf6c5",
   "metadata": {},
   "outputs": [],
   "source": []
  }
 ],
 "metadata": {
  "kernelspec": {
   "display_name": "Python 3 (ipykernel)",
   "language": "python",
   "name": "python3"
  },
  "language_info": {
   "codemirror_mode": {
    "name": "ipython",
    "version": 3
   },
   "file_extension": ".py",
   "mimetype": "text/x-python",
   "name": "python",
   "nbconvert_exporter": "python",
   "pygments_lexer": "ipython3",
   "version": "3.10.9"
  }
 },
 "nbformat": 4,
 "nbformat_minor": 5
}
