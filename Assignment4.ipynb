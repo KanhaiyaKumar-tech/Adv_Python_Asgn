{
 "cells": [
  {
   "cell_type": "code",
   "execution_count": null,
   "id": "3026189c",
   "metadata": {},
   "outputs": [],
   "source": []
  },
  {
   "cell_type": "code",
   "execution_count": null,
   "id": "a7b42602",
   "metadata": {},
   "outputs": [],
   "source": [
    "Q1. Which two operator overloading methods can you use in your classes to support iteration?\n",
    "\n"
   ]
  },
  {
   "cell_type": "code",
   "execution_count": null,
   "id": "3fc0878d",
   "metadata": {},
   "outputs": [],
   "source": [
    "The two operator overloading methods that can be used in classes to support iteration are:\n",
    "\n",
    "__getitem__(): This method is called when an object is accessed using the [] operator.\n",
    "__len__(): This method is called when the len() function is called on an object."
   ]
  },
  {
   "cell_type": "code",
   "execution_count": null,
   "id": "33054fac",
   "metadata": {},
   "outputs": [],
   "source": []
  },
  {
   "cell_type": "code",
   "execution_count": null,
   "id": "3bd9deb8",
   "metadata": {},
   "outputs": [],
   "source": [
    "Q2. In what contexts do the two operator overloading methods manage printing?\n",
    "\n"
   ]
  },
  {
   "cell_type": "code",
   "execution_count": null,
   "id": "cca16817",
   "metadata": {},
   "outputs": [],
   "source": [
    "The __getitem__() method manages printing in the context of iterating over an object. For example, if you have a class called MyClass and you want to iterate over it using a for loop, you would need to define the __getitem__() method. This method would return the next item in the sequence.\n",
    "\n",
    "The __len__() method manages printing in the context of the len() function. For example, if you want to know the length of an object, you would call the len() function on it. The __len__() method would return the length of the object."
   ]
  },
  {
   "cell_type": "code",
   "execution_count": null,
   "id": "aa5c33c6",
   "metadata": {},
   "outputs": [],
   "source": []
  },
  {
   "cell_type": "code",
   "execution_count": null,
   "id": "626d4317",
   "metadata": {},
   "outputs": [],
   "source": [
    "Q3. In a class, how do you intercept slice operations?\n",
    "\n"
   ]
  },
  {
   "cell_type": "code",
   "execution_count": null,
   "id": "dbc1f33b",
   "metadata": {},
   "outputs": [],
   "source": [
    "To intercept slice operations in a class, you can override the __getitem__() method. The __getitem__() method is called when you use the [] operator to access an element from an object. By overriding the __getitem__() method, you can control how the slice operation is performed."
   ]
  },
  {
   "cell_type": "code",
   "execution_count": null,
   "id": "774a6381",
   "metadata": {},
   "outputs": [],
   "source": []
  },
  {
   "cell_type": "code",
   "execution_count": null,
   "id": "8c19a610",
   "metadata": {},
   "outputs": [],
   "source": [
    " "
   ]
  },
  {
   "cell_type": "code",
   "execution_count": null,
   "id": "c960dc6e",
   "metadata": {},
   "outputs": [],
   "source": [
    "Q4. In a class, how do you capture in-place addition?\n",
    "\n"
   ]
  },
  {
   "cell_type": "code",
   "execution_count": null,
   "id": "b7fd208d",
   "metadata": {},
   "outputs": [],
   "source": [
    "To capture in-place addition in a class, you can override the __iadd__() method. The __iadd__() method is called when you try to add an object to itself using the += operator. In your __iadd__() method, you can perform the in-place addition, and you can return the modified object."
   ]
  },
  {
   "cell_type": "code",
   "execution_count": null,
   "id": "ee9e3382",
   "metadata": {},
   "outputs": [],
   "source": []
  },
  {
   "cell_type": "code",
   "execution_count": null,
   "id": "4bb453b6",
   "metadata": {},
   "outputs": [],
   "source": [
    "Q5. When is it appropriate to use operator overloading?\n"
   ]
  },
  {
   "cell_type": "code",
   "execution_count": null,
   "id": "b2586e41",
   "metadata": {},
   "outputs": [],
   "source": [
    "Operator overloading can be used to make your code more concise and expressive. It can also be used to add new functionality to your classes. However, it is important to use operator overloading sparingly, as it can make your code difficult to understand and maintain.\n",
    "\n",
    "Here are some examples of when it might be appropriate to use operator overloading:\n",
    "\n",
    "To define a custom way of comparing objects.\n",
    "To define a custom way of adding or multiplying objects.\n",
    "To define a custom way of iterating over objects."
   ]
  },
  {
   "cell_type": "code",
   "execution_count": null,
   "id": "d626692d",
   "metadata": {},
   "outputs": [],
   "source": []
  },
  {
   "cell_type": "code",
   "execution_count": null,
   "id": "e01cc500",
   "metadata": {},
   "outputs": [],
   "source": []
  },
  {
   "cell_type": "code",
   "execution_count": null,
   "id": "9074c245",
   "metadata": {},
   "outputs": [],
   "source": []
  },
  {
   "cell_type": "code",
   "execution_count": null,
   "id": "907543ca",
   "metadata": {},
   "outputs": [],
   "source": []
  },
  {
   "cell_type": "code",
   "execution_count": null,
   "id": "56040eb7",
   "metadata": {},
   "outputs": [],
   "source": []
  },
  {
   "cell_type": "code",
   "execution_count": null,
   "id": "ae92aeca",
   "metadata": {},
   "outputs": [],
   "source": []
  },
  {
   "cell_type": "code",
   "execution_count": null,
   "id": "21bcea46",
   "metadata": {},
   "outputs": [],
   "source": []
  },
  {
   "cell_type": "code",
   "execution_count": null,
   "id": "cf48d09f",
   "metadata": {},
   "outputs": [],
   "source": []
  }
 ],
 "metadata": {
  "kernelspec": {
   "display_name": "Python 3 (ipykernel)",
   "language": "python",
   "name": "python3"
  },
  "language_info": {
   "codemirror_mode": {
    "name": "ipython",
    "version": 3
   },
   "file_extension": ".py",
   "mimetype": "text/x-python",
   "name": "python",
   "nbconvert_exporter": "python",
   "pygments_lexer": "ipython3",
   "version": "3.10.9"
  }
 },
 "nbformat": 4,
 "nbformat_minor": 5
}
