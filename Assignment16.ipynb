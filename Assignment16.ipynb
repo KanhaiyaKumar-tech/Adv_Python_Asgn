{
 "cells": [
  {
   "cell_type": "code",
   "execution_count": null,
   "id": "a96beb50",
   "metadata": {},
   "outputs": [],
   "source": [
    " "
   ]
  },
  {
   "cell_type": "code",
   "execution_count": null,
   "id": "9d2ce0de",
   "metadata": {},
   "outputs": [],
   "source": [
    "Q1. What is the benefit of regular expressions?\n",
    "\n"
   ]
  },
  {
   "cell_type": "code",
   "execution_count": null,
   "id": "6fa2df5e",
   "metadata": {},
   "outputs": [],
   "source": [
    "Regular expressions are a powerful tool that can be used to match patterns in text. They are used in a variety of applications, including text processing, data validation, and web scraping.\n",
    "\n",
    "Some of the benefits of regular expressions include:\n",
    "\n",
    "They are powerful and flexible.\n",
    "They can be used to match complex patterns.\n",
    "They are efficient.\n",
    "They are portable."
   ]
  },
  {
   "cell_type": "code",
   "execution_count": null,
   "id": "faca46ed",
   "metadata": {},
   "outputs": [],
   "source": []
  },
  {
   "cell_type": "code",
   "execution_count": null,
   "id": "297182f0",
   "metadata": {},
   "outputs": [],
   "source": [
    "Q2. Describe the difference between the effects of &quot;(ab)c+&quot; and &quot;a(bc)+.&quot; Which of these, if any, is the\n",
    "unqualified pattern &quot;abc+&quot;?\n",
    "\n"
   ]
  },
  {
   "cell_type": "code",
   "execution_count": null,
   "id": "db6c0209",
   "metadata": {},
   "outputs": [],
   "source": [
    "he pattern (ab)c+ matches the string abcc. It first matches the pattern ab, then the pattern c, and then one or more occurrences of the pattern c.\n",
    "\n",
    "The pattern a(bc)+. matches the string abcc. It first matches the pattern a, then the pattern (bc)+, which matches one or more occurrences of the pattern bc. The . character matches any single character.\n",
    "\n",
    "The unqualified pattern abc+ matches the string abc. It matches one or more occurrences of the pattern abc."
   ]
  },
  {
   "cell_type": "code",
   "execution_count": null,
   "id": "a872c045",
   "metadata": {},
   "outputs": [],
   "source": []
  },
  {
   "cell_type": "code",
   "execution_count": null,
   "id": "3721253f",
   "metadata": {},
   "outputs": [],
   "source": [
    "Q3. How much do you need to use the following sentence while using regular expressions?\n",
    "\n",
    "import re\n",
    "\n"
   ]
  },
  {
   "cell_type": "code",
   "execution_count": null,
   "id": "7f713cda",
   "metadata": {},
   "outputs": [],
   "source": [
    "he sentence import re needs to be used at the beginning of any Python program that uses regular expressions. This is because it imports the re module, which contains the regular expression functions."
   ]
  },
  {
   "cell_type": "code",
   "execution_count": null,
   "id": "dd836e66",
   "metadata": {},
   "outputs": [],
   "source": []
  },
  {
   "cell_type": "code",
   "execution_count": null,
   "id": "7c70cc5b",
   "metadata": {},
   "outputs": [],
   "source": [
    "Q4. Which characters have special significance in square brackets when expressing a range, and\n",
    "under what circumstances?\n",
    "\n"
   ]
  },
  {
   "cell_type": "code",
   "execution_count": null,
   "id": "139c9660",
   "metadata": {},
   "outputs": [],
   "source": [
    "The characters -, ^, and ] have special significance in square brackets when expressing a range. The - character represents a range of characters, the ^ character represents the start of a range, and the ] character represents the end of a range.\n",
    "\n",
    "For example, the pattern [a-z] matches any lowercase letter from a to z. The pattern [^a-z] matches any character that is not a lowercase letter from a to z. The pattern [a-z0-9] matches any lowercase letter or digit from 0 to 9."
   ]
  },
  {
   "cell_type": "code",
   "execution_count": null,
   "id": "7d15364b",
   "metadata": {},
   "outputs": [],
   "source": []
  },
  {
   "cell_type": "code",
   "execution_count": null,
   "id": "04c489a6",
   "metadata": {},
   "outputs": [],
   "source": [
    "Q5. How does compiling a regular-expression object benefit you?\n",
    "\n"
   ]
  },
  {
   "cell_type": "code",
   "execution_count": null,
   "id": "d8756615",
   "metadata": {},
   "outputs": [],
   "source": [
    "Compiling a regular-expression object benefits you by making it faster to match patterns in text. When you compile a regular expression, the Python interpreter converts it into a more efficient form that can be used to match patterns in text."
   ]
  },
  {
   "cell_type": "code",
   "execution_count": null,
   "id": "81226801",
   "metadata": {},
   "outputs": [],
   "source": []
  },
  {
   "cell_type": "code",
   "execution_count": null,
   "id": "2c57f227",
   "metadata": {},
   "outputs": [],
   "source": [
    "Q6. What are some examples of how to use the match object returned by re.match and re.search?\n",
    "\n"
   ]
  },
  {
   "cell_type": "code",
   "execution_count": null,
   "id": "7009ee18",
   "metadata": {},
   "outputs": [],
   "source": [
    "he match() and search() functions return a match object that can be used to access information about the match. For example, the group() method of the match object returns the text that was matched by the regular expression.\n",
    "\n",
    "Here are some examples of how to use the match() and search() functions:"
   ]
  },
  {
   "cell_type": "code",
   "execution_count": 1,
   "id": "153aca32",
   "metadata": {},
   "outputs": [
    {
     "name": "stdout",
     "output_type": "stream",
     "text": [
      "This is\n",
      "This is\n"
     ]
    }
   ],
   "source": [
    "import re\n",
    "\n",
    "text = \"This is a test string.\"\n",
    "\n",
    "match = re.match(r\"This is\", text)\n",
    "\n",
    "if match:\n",
    "    print(match.group())\n",
    "\n",
    "search = re.search(r\"This is\", text)\n",
    "\n",
    "if search:\n",
    "    print(search.group())\n"
   ]
  },
  {
   "cell_type": "code",
   "execution_count": null,
   "id": "11597ad3",
   "metadata": {},
   "outputs": [],
   "source": [
    "Q7. What is the difference between using a vertical bar (|) as an alteration and using square brackets\n",
    "as a character set?\n",
    "\n"
   ]
  },
  {
   "cell_type": "code",
   "execution_count": null,
   "id": "b22c3595",
   "metadata": {},
   "outputs": [],
   "source": [
    "The vertical bar (|) is used as an alteration in regular expressions. This means that it can be used to match one of two patterns. For example, the pattern a|b matches the string a or the string b.\n",
    "\n",
    "Square brackets ([]) are used to define a character set in regular expressions. This means that they can be used to match any character that is included in the set. For example, the pattern [a-z] matches any lowercase letter from a to z.\n",
    "\n",
    "The main difference between using a vertical bar as an alteration and using square brackets as a character set is that the vertical bar can only match one of two patterns, while square brackets can match any character that is included in the set."
   ]
  },
  {
   "cell_type": "code",
   "execution_count": null,
   "id": "30e9e4de",
   "metadata": {},
   "outputs": [],
   "source": []
  },
  {
   "cell_type": "code",
   "execution_count": null,
   "id": "d981fe07",
   "metadata": {},
   "outputs": [],
   "source": [
    "Q8. In regular-expression search patterns, why is it necessary to use the raw-string indicator (r)? In  \n",
    "replacement strings?\n"
   ]
  },
  {
   "cell_type": "code",
   "execution_count": null,
   "id": "fc1b794b",
   "metadata": {},
   "outputs": [],
   "source": [
    "In regular-expression search patterns, the raw-string indicator (r) is necessary to prevent the Python interpreter from interpreting special characters in the pattern. For example, the pattern \\n would normally be interpreted as a newline character, but if you use the raw-string indicator, the Python interpreter will treat it as a literal n character.\n",
    "\n",
    "In replacement strings, the raw-string indicator is also necessary to prevent the Python interpreter from interpreting special characters. For example, the replacement string \\1 would normally be interpreted as the first captured group, but if you use the raw-string indicator, the Python interpreter will treat it as a literal 1 character."
   ]
  },
  {
   "cell_type": "code",
   "execution_count": 2,
   "id": "07a3b670",
   "metadata": {},
   "outputs": [
    {
     "name": "stdout",
     "output_type": "stream",
     "text": [
      "This is a test string.\n"
     ]
    }
   ],
   "source": [
    "import re\n",
    "\n",
    "text = \"This is a test string.\\n\"\n",
    "\n",
    "pattern = r\"This is a test string.\"\n",
    "\n",
    "match = re.search(pattern, text)\n",
    "\n",
    "if match:\n",
    "    print(match.group())\n"
   ]
  },
  {
   "cell_type": "code",
   "execution_count": null,
   "id": "785b639c",
   "metadata": {},
   "outputs": [],
   "source": [
    "In this example, the raw-string indicator is used to prevent the Python interpreter from interpreting the newline character in the pattern. The match() function will return the string This is a test string, because the pattern matches the text."
   ]
  },
  {
   "cell_type": "code",
   "execution_count": 3,
   "id": "8895c5ac",
   "metadata": {},
   "outputs": [
    {
     "name": "stdout",
     "output_type": "stream",
     "text": [
      "a test string. replaced\n",
      "\n"
     ]
    }
   ],
   "source": [
    "import re\n",
    "\n",
    "text = \"This is a test string.\\n\"\n",
    "\n",
    "pattern = r\"This is (.*)\"\n",
    "\n",
    "replacement = r\"\\1 replaced\"\n",
    "\n",
    "new_text = re.sub(pattern, replacement, text)\n",
    "\n",
    "print(new_text)\n"
   ]
  },
  {
   "cell_type": "code",
   "execution_count": null,
   "id": "eab1a76d",
   "metadata": {},
   "outputs": [],
   "source": [
    "In this example, the raw-string indicator is used to prevent the Python interpreter from interpreting the parentheses in the replacement string. The sub() function will replace the first occurrence of the pattern in the text with the string \\1 replaced, because the pattern matches the text."
   ]
  },
  {
   "cell_type": "code",
   "execution_count": null,
   "id": "0bf28694",
   "metadata": {},
   "outputs": [],
   "source": []
  },
  {
   "cell_type": "code",
   "execution_count": null,
   "id": "a44cc86b",
   "metadata": {},
   "outputs": [],
   "source": []
  },
  {
   "cell_type": "code",
   "execution_count": null,
   "id": "e9b8b4e0",
   "metadata": {},
   "outputs": [],
   "source": []
  },
  {
   "cell_type": "code",
   "execution_count": null,
   "id": "a7c19700",
   "metadata": {},
   "outputs": [],
   "source": []
  },
  {
   "cell_type": "code",
   "execution_count": null,
   "id": "44220078",
   "metadata": {},
   "outputs": [],
   "source": []
  },
  {
   "cell_type": "code",
   "execution_count": null,
   "id": "5eb9cdf4",
   "metadata": {},
   "outputs": [],
   "source": []
  },
  {
   "cell_type": "code",
   "execution_count": null,
   "id": "fc4b8110",
   "metadata": {},
   "outputs": [],
   "source": []
  }
 ],
 "metadata": {
  "kernelspec": {
   "display_name": "Python 3 (ipykernel)",
   "language": "python",
   "name": "python3"
  },
  "language_info": {
   "codemirror_mode": {
    "name": "ipython",
    "version": 3
   },
   "file_extension": ".py",
   "mimetype": "text/x-python",
   "name": "python",
   "nbconvert_exporter": "python",
   "pygments_lexer": "ipython3",
   "version": "3.10.9"
  }
 },
 "nbformat": 4,
 "nbformat_minor": 5
}
