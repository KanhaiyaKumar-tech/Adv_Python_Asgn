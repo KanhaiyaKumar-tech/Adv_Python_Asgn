{
 "cells": [
  {
   "cell_type": "code",
   "execution_count": null,
   "id": "f11a16a4",
   "metadata": {},
   "outputs": [],
   "source": []
  },
  {
   "cell_type": "code",
   "execution_count": null,
   "id": "6d911cc4",
   "metadata": {},
   "outputs": [],
   "source": [
    "Q1. Does assigning a value to a string&#39;s indexed character violate Python&#39;s string immutability?\n",
    "\n",
    " "
   ]
  },
  {
   "cell_type": "code",
   "execution_count": null,
   "id": "c27450d3",
   "metadata": {},
   "outputs": [],
   "source": [
    "Yes, assigning a value to a string's indexed character violates Python's string immutability. This is because strings are immutable in Python, which means that they cannot be changed once they are created. If you try to assign a value to a string's indexed character, you will get an error."
   ]
  },
  {
   "cell_type": "code",
   "execution_count": null,
   "id": "3e9d2105",
   "metadata": {},
   "outputs": [],
   "source": []
  },
  {
   "cell_type": "code",
   "execution_count": null,
   "id": "6063a102",
   "metadata": {},
   "outputs": [],
   "source": [
    "\n",
    "Q2. Does using the += operator to concatenate strings violate Python&#39;s string immutability? Why or\n",
    "why not?\n",
    "\n"
   ]
  },
  {
   "cell_type": "code",
   "execution_count": null,
   "id": "33cb9597",
   "metadata": {},
   "outputs": [],
   "source": [
    "No, using the += operator to concatenate strings does not violate Python's string immutability. This is because the += operator does not actually change the string that is being concatenated. Instead, it creates a new string that is the concatenation of the two strings.\n",
    "\n"
   ]
  },
  {
   "cell_type": "code",
   "execution_count": null,
   "id": "127310b6",
   "metadata": {},
   "outputs": [],
   "source": []
  },
  {
   "cell_type": "code",
   "execution_count": null,
   "id": "955d254b",
   "metadata": {},
   "outputs": [],
   "source": [
    "Q3. In Python, how many different ways are there to index a character?\n"
   ]
  },
  {
   "cell_type": "code",
   "execution_count": null,
   "id": "67524408",
   "metadata": {},
   "outputs": [],
   "source": [
    "There are two different ways to index a character in Python. You can use the [] operator or the ord() function. The [] operator returns the character at the specified index, while the ord() function returns the Unicode code point of the character at the specified index.\n",
    "\n"
   ]
  },
  {
   "cell_type": "code",
   "execution_count": null,
   "id": "f29260cf",
   "metadata": {},
   "outputs": [],
   "source": []
  },
  {
   "cell_type": "code",
   "execution_count": null,
   "id": "36fcab71",
   "metadata": {},
   "outputs": [],
   "source": [
    "Q4. What is the relationship between indexing and slicing?\n"
   ]
  },
  {
   "cell_type": "code",
   "execution_count": null,
   "id": "e698b54a",
   "metadata": {},
   "outputs": [],
   "source": [
    "There are two different ways to index a character in Python. You can use the [] operator or the ord() function. The [] operator returns the character at the specified index, while the ord() function returns the Unicode code point of the character at the specified index.\n",
    "\n"
   ]
  },
  {
   "cell_type": "code",
   "execution_count": null,
   "id": "b5ea4ddc",
   "metadata": {},
   "outputs": [],
   "source": []
  },
  {
   "cell_type": "code",
   "execution_count": null,
   "id": "8ea10bd2",
   "metadata": {},
   "outputs": [],
   "source": [
    "Q5. What is an indexed character&#39;s exact data type? What is the data form of a slicing-generated\n",
    "substring?"
   ]
  },
  {
   "cell_type": "code",
   "execution_count": null,
   "id": "df286cdd",
   "metadata": {},
   "outputs": [],
   "source": [
    "An indexed character's exact data type is str. The data form of a slicing-generated substring is also str.\n",
    "\n"
   ]
  },
  {
   "cell_type": "code",
   "execution_count": null,
   "id": "15264c7b",
   "metadata": {},
   "outputs": [],
   "source": []
  },
  {
   "cell_type": "code",
   "execution_count": null,
   "id": "2f79f4f2",
   "metadata": {},
   "outputs": [],
   "source": [
    "Q6. What is the relationship between string and character &quot;types&quot; in Python?\n"
   ]
  },
  {
   "cell_type": "code",
   "execution_count": null,
   "id": "d3db1237",
   "metadata": {},
   "outputs": [],
   "source": [
    "In Python, there is no distinction between strings and characters. A string is simply a sequence of characters.\n",
    "\n"
   ]
  },
  {
   "cell_type": "code",
   "execution_count": null,
   "id": "9009fb31",
   "metadata": {},
   "outputs": [],
   "source": []
  },
  {
   "cell_type": "code",
   "execution_count": null,
   "id": "2b5b564a",
   "metadata": {},
   "outputs": [],
   "source": [
    "\n",
    "Q7. Identify at least two operators and one method that allow you to combine one or more smaller\n",
    "strings to create a larger string."
   ]
  },
  {
   "cell_type": "code",
   "execution_count": null,
   "id": "af3b34bc",
   "metadata": {},
   "outputs": [],
   "source": [
    "The two operators that allow you to combine one or more smaller strings to create a larger string are the + operator and the += operator. The + operator simply concatenates the two strings, while the += operator concatenates the two strings and assigns the result to the first string.\n",
    "\n",
    "The one method that allows you to combine one or more smaller strings to create a larger string is the join() method. The join() method takes a sequence of strings as input and returns a single string that is the concatenation of the strings in the sequence.\n",
    "\n"
   ]
  },
  {
   "cell_type": "code",
   "execution_count": null,
   "id": "09cd6257",
   "metadata": {},
   "outputs": [],
   "source": []
  },
  {
   "cell_type": "code",
   "execution_count": null,
   "id": "8c26a384",
   "metadata": {},
   "outputs": [],
   "source": [
    "\n",
    "Q8. What is the benefit of first checking the target string with in or not in before using the index\n",
    "method to find a substring?"
   ]
  },
  {
   "cell_type": "code",
   "execution_count": null,
   "id": "12d84915",
   "metadata": {},
   "outputs": [],
   "source": [
    "The benefit of first checking the target string with in or not in before using the index() method to find a substring is that it can prevent errors. If the substring is not in the target string, the index() method will raise an error. By first checking to see if the substring is in the target string, you can avoid this error.\n",
    "\n"
   ]
  },
  {
   "cell_type": "code",
   "execution_count": null,
   "id": "678ea147",
   "metadata": {},
   "outputs": [],
   "source": []
  },
  {
   "cell_type": "code",
   "execution_count": null,
   "id": "30126ee6",
   "metadata": {},
   "outputs": [],
   "source": [
    "Q9. Which operators and built-in string methods produce simple Boolean (true/false) results?"
   ]
  },
  {
   "cell_type": "code",
   "execution_count": null,
   "id": "1b036ae1",
   "metadata": {},
   "outputs": [],
   "source": [
    "The operators and built-in string methods that produce simple Boolean (true/false) results are:\n",
    "\n",
    "in\n",
    "not in\n",
    "is\n",
    "is not\n",
    "len()\n",
    "startswith()\n",
    "endswith()"
   ]
  },
  {
   "cell_type": "code",
   "execution_count": null,
   "id": "0a72aff0",
   "metadata": {},
   "outputs": [],
   "source": []
  },
  {
   "cell_type": "code",
   "execution_count": null,
   "id": "c3946645",
   "metadata": {},
   "outputs": [],
   "source": []
  },
  {
   "cell_type": "code",
   "execution_count": null,
   "id": "e4b5e4cb",
   "metadata": {},
   "outputs": [],
   "source": []
  },
  {
   "cell_type": "code",
   "execution_count": null,
   "id": "0ff4536f",
   "metadata": {},
   "outputs": [],
   "source": []
  },
  {
   "cell_type": "code",
   "execution_count": null,
   "id": "fd4eed17",
   "metadata": {},
   "outputs": [],
   "source": []
  },
  {
   "cell_type": "code",
   "execution_count": null,
   "id": "a0b297d5",
   "metadata": {},
   "outputs": [],
   "source": []
  },
  {
   "cell_type": "code",
   "execution_count": null,
   "id": "1972ffd5",
   "metadata": {},
   "outputs": [],
   "source": []
  },
  {
   "cell_type": "code",
   "execution_count": null,
   "id": "5c247dcc",
   "metadata": {},
   "outputs": [],
   "source": []
  },
  {
   "cell_type": "code",
   "execution_count": null,
   "id": "c6c672ac",
   "metadata": {},
   "outputs": [],
   "source": []
  },
  {
   "cell_type": "code",
   "execution_count": null,
   "id": "602f36a6",
   "metadata": {},
   "outputs": [],
   "source": []
  }
 ],
 "metadata": {
  "kernelspec": {
   "display_name": "Python 3 (ipykernel)",
   "language": "python",
   "name": "python3"
  },
  "language_info": {
   "codemirror_mode": {
    "name": "ipython",
    "version": 3
   },
   "file_extension": ".py",
   "mimetype": "text/x-python",
   "name": "python",
   "nbconvert_exporter": "python",
   "pygments_lexer": "ipython3",
   "version": "3.10.9"
  }
 },
 "nbformat": 4,
 "nbformat_minor": 5
}
