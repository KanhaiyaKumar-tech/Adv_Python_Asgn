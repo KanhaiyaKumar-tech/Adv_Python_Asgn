{
 "cells": [
  {
   "cell_type": "code",
   "execution_count": null,
   "id": "322a4320",
   "metadata": {},
   "outputs": [],
   "source": []
  },
  {
   "cell_type": "code",
   "execution_count": null,
   "id": "8b21c005",
   "metadata": {},
   "outputs": [],
   "source": [
    "Q1. In Python 3.X, what are the names and functions of string object types?\n",
    "\n"
   ]
  },
  {
   "cell_type": "code",
   "execution_count": null,
   "id": "4f36bf8f",
   "metadata": {},
   "outputs": [],
   "source": [
    "\n",
    " \n",
    "In Python 3.X, there is only one string object type: str. The str object type can represent both ASCII and Unicode text.\n",
    " \n",
    " "
   ]
  },
  {
   "cell_type": "code",
   "execution_count": null,
   "id": "2bfdb656",
   "metadata": {},
   "outputs": [],
   "source": []
  },
  {
   "cell_type": "code",
   "execution_count": null,
   "id": "18f1a79e",
   "metadata": {},
   "outputs": [],
   "source": [
    "Q2. How do the string forms in Python 3.X vary in terms of operations?\n",
    "\n"
   ]
  },
  {
   "cell_type": "code",
   "execution_count": null,
   "id": "46375475",
   "metadata": {},
   "outputs": [],
   "source": [
    "\n",
    "The string forms in Python 3.X vary in terms of operations in the following ways:\n",
    "\n",
    "ASCII strings: ASCII strings can only represent ASCII characters.\n",
    "Unicode strings: Unicode strings can represent any Unicode character.\n",
    "Byte strings: Byte strings are a special type of string that can represent both ASCII and Unicode characters."
   ]
  },
  {
   "cell_type": "code",
   "execution_count": null,
   "id": "f09a997f",
   "metadata": {},
   "outputs": [],
   "source": []
  },
  {
   "cell_type": "code",
   "execution_count": null,
   "id": "26ee3c16",
   "metadata": {},
   "outputs": [],
   "source": [
    "Q3. In 3.X, how do you put non-ASCII Unicode characters in a string?\n",
    "\n"
   ]
  },
  {
   "cell_type": "code",
   "execution_count": null,
   "id": "9f8cdf2d",
   "metadata": {},
   "outputs": [],
   "source": [
    "To put non-ASCII Unicode characters in a string in Python 3.X, you can use the u prefix. For example, the following code will create a string that contains the non-ASCII Unicode character é:\n"
   ]
  },
  {
   "cell_type": "code",
   "execution_count": 1,
   "id": "a50782dd",
   "metadata": {},
   "outputs": [
    {
     "data": {
      "text/plain": [
       "'This string contains the non-ASCII Unicode character é.'"
      ]
     },
     "execution_count": 1,
     "metadata": {},
     "output_type": "execute_result"
    }
   ],
   "source": [
    " u\"This string contains the non-ASCII Unicode character é.\""
   ]
  },
  {
   "cell_type": "code",
   "execution_count": null,
   "id": "307360b3",
   "metadata": {},
   "outputs": [],
   "source": [
    "Q4. In Python 3.X, what are the key differences between text-mode and binary-mode files?\n",
    "\n"
   ]
  },
  {
   "cell_type": "code",
   "execution_count": null,
   "id": "3e72ac40",
   "metadata": {},
   "outputs": [],
   "source": [
    "\n",
    "The key differences between text-mode and binary-mode files in Python 3.X are:\n",
    "\n",
    "Text-mode files: Text-mode files are interpreted as text. This means that newline characters are converted to \\n characters, and other characters are decoded according to the current encoding.\n",
    "Binary-mode files: Binary-mode files are interpreted as binary data. This means that newline characters are not converted, and other characters are not decoded.\n"
   ]
  },
  {
   "cell_type": "code",
   "execution_count": null,
   "id": "bbe57192",
   "metadata": {},
   "outputs": [],
   "source": []
  },
  {
   "cell_type": "code",
   "execution_count": null,
   "id": "a1fbf4d2",
   "metadata": {},
   "outputs": [],
   "source": [
    "Q5. How can you interpret a Unicode text file containing text encoded in a different encoding than\n",
    "your platform&#39;s default?\n",
    "\n"
   ]
  },
  {
   "cell_type": "code",
   "execution_count": null,
   "id": "89c7ce1d",
   "metadata": {},
   "outputs": [],
   "source": [
    "\n",
    "To interpret a Unicode text file containing text encoded in a different encoding than your platform's default, you can use the open() function with the encoding keyword argument. For example, the following code will open a file in binary mode and decode the text using the utf-8 encoding:\n",
    "\n"
   ]
  },
  {
   "cell_type": "code",
   "execution_count": null,
   "id": "b17c792e",
   "metadata": {},
   "outputs": [],
   "source": [
    " with open(\"file.txt\", \"rb\") as f:\n",
    "     text = f.read().decode(\"utf-8\")\n",
    "\n",
    " print(text)"
   ]
  },
  {
   "cell_type": "code",
   "execution_count": null,
   "id": "588ea85f",
   "metadata": {},
   "outputs": [],
   "source": [
    "Q6. What is the best way to make a Unicode text file in a particular encoding format?\n",
    "\n"
   ]
  },
  {
   "cell_type": "code",
   "execution_count": null,
   "id": "f1987654",
   "metadata": {},
   "outputs": [],
   "source": [
    "\n",
    "The best way to make a Unicode text file in a particular encoding format is to use the open() function with the encoding keyword argument. For example, the following code will create a file in binary mode and encode the text using the utf-8 encoding:\n"
   ]
  },
  {
   "cell_type": "code",
   "execution_count": null,
   "id": "96c0c1e3",
   "metadata": {},
   "outputs": [],
   "source": [
    "with open(\"file.txt\", \"wb\") as f:\n",
    "   f.write(text.encode(\"utf-8\"))\n",
    " "
   ]
  },
  {
   "cell_type": "code",
   "execution_count": null,
   "id": "c57b9094",
   "metadata": {},
   "outputs": [],
   "source": [
    "Q7. What qualifies ASCII text as a form of Unicode text?\n",
    "\n"
   ]
  },
  {
   "cell_type": "code",
   "execution_count": null,
   "id": "578a5072",
   "metadata": {},
   "outputs": [],
   "source": [
    " \n",
    "ASCII text is a form of Unicode text because it can be represented as a subset of the Unicode character set.\n",
    "\n",
    " "
   ]
  },
  {
   "cell_type": "code",
   "execution_count": null,
   "id": "2f35333c",
   "metadata": {},
   "outputs": [],
   "source": []
  },
  {
   "cell_type": "code",
   "execution_count": null,
   "id": "3be7e480",
   "metadata": {},
   "outputs": [],
   "source": [
    "Q8. How much of an effect does the change in string types in Python 3.X have on your code?\n"
   ]
  },
  {
   "cell_type": "code",
   "execution_count": null,
   "id": "13fc55dc",
   "metadata": {},
   "outputs": [],
   "source": [
    "\n",
    "The change in string types in Python 3.X has a significant effect on code that was written for Python 2.X. This is because Python 3.X no longer supports the str and unicode types. Instead, there is only one string type: str. This means that code that was written for Python 2.X will need to be modified to use the str type.\n",
    "\n",
    "In addition, the encoding of strings in Python 3.X is different than in Python 2.X. This means that code that was written for Python 2.X will need to be modified to use the correct encoding.\n",
    "\n",
    "Overall, the change in string types in Python 3.X has a significant effect on code that was written for Python 2.X. However, the changes are not insurmountable, and code can be modified to work with Python 3.X.\n",
    " "
   ]
  },
  {
   "cell_type": "code",
   "execution_count": null,
   "id": "81553fcc",
   "metadata": {},
   "outputs": [],
   "source": []
  },
  {
   "cell_type": "code",
   "execution_count": null,
   "id": "e5e292fa",
   "metadata": {},
   "outputs": [],
   "source": []
  },
  {
   "cell_type": "code",
   "execution_count": null,
   "id": "61edf29a",
   "metadata": {},
   "outputs": [],
   "source": []
  },
  {
   "cell_type": "code",
   "execution_count": null,
   "id": "442b3286",
   "metadata": {},
   "outputs": [],
   "source": []
  },
  {
   "cell_type": "code",
   "execution_count": null,
   "id": "e766164e",
   "metadata": {},
   "outputs": [],
   "source": []
  },
  {
   "cell_type": "code",
   "execution_count": null,
   "id": "dc765f44",
   "metadata": {},
   "outputs": [],
   "source": []
  },
  {
   "cell_type": "code",
   "execution_count": null,
   "id": "5898bf6e",
   "metadata": {},
   "outputs": [],
   "source": []
  },
  {
   "cell_type": "code",
   "execution_count": null,
   "id": "8b25bdaa",
   "metadata": {},
   "outputs": [],
   "source": []
  },
  {
   "cell_type": "code",
   "execution_count": null,
   "id": "b5a6e657",
   "metadata": {},
   "outputs": [],
   "source": []
  },
  {
   "cell_type": "code",
   "execution_count": null,
   "id": "eccf7b9e",
   "metadata": {},
   "outputs": [],
   "source": []
  },
  {
   "cell_type": "code",
   "execution_count": null,
   "id": "89195001",
   "metadata": {},
   "outputs": [],
   "source": []
  },
  {
   "cell_type": "code",
   "execution_count": null,
   "id": "18c3684a",
   "metadata": {},
   "outputs": [],
   "source": []
  },
  {
   "cell_type": "code",
   "execution_count": null,
   "id": "ca0b1712",
   "metadata": {},
   "outputs": [],
   "source": []
  },
  {
   "cell_type": "code",
   "execution_count": null,
   "id": "7ae376b7",
   "metadata": {},
   "outputs": [],
   "source": []
  },
  {
   "cell_type": "code",
   "execution_count": null,
   "id": "4066788d",
   "metadata": {},
   "outputs": [],
   "source": []
  },
  {
   "cell_type": "code",
   "execution_count": null,
   "id": "0972fd01",
   "metadata": {},
   "outputs": [],
   "source": []
  },
  {
   "cell_type": "code",
   "execution_count": null,
   "id": "b119b722",
   "metadata": {},
   "outputs": [],
   "source": []
  },
  {
   "cell_type": "code",
   "execution_count": null,
   "id": "27043f1b",
   "metadata": {},
   "outputs": [],
   "source": []
  }
 ],
 "metadata": {
  "kernelspec": {
   "display_name": "Python 3 (ipykernel)",
   "language": "python",
   "name": "python3"
  },
  "language_info": {
   "codemirror_mode": {
    "name": "ipython",
    "version": 3
   },
   "file_extension": ".py",
   "mimetype": "text/x-python",
   "name": "python",
   "nbconvert_exporter": "python",
   "pygments_lexer": "ipython3",
   "version": "3.10.9"
  }
 },
 "nbformat": 4,
 "nbformat_minor": 5
}
