{
 "cells": [
  {
   "cell_type": "code",
   "execution_count": null,
   "id": "bf46ce5b",
   "metadata": {},
   "outputs": [],
   "source": []
  },
  {
   "cell_type": "code",
   "execution_count": null,
   "id": "ca02b0fe",
   "metadata": {},
   "outputs": [],
   "source": [
    "Q1. What is the meaning of multiple inheritance?\n"
   ]
  },
  {
   "cell_type": "code",
   "execution_count": null,
   "id": "c4693b67",
   "metadata": {},
   "outputs": [],
   "source": [
    "Multiple inheritance is a feature of object-oriented programming that allows a class to inherit from multiple parent classes. This means that a class can inherit the attributes and methods of all of its parent classes."
   ]
  },
  {
   "cell_type": "code",
   "execution_count": null,
   "id": "7e821dac",
   "metadata": {},
   "outputs": [],
   "source": []
  },
  {
   "cell_type": "code",
   "execution_count": null,
   "id": "5f84d351",
   "metadata": {},
   "outputs": [],
   "source": [
    " \n",
    "Q2. What is the concept of delegation?"
   ]
  },
  {
   "cell_type": "code",
   "execution_count": null,
   "id": "95ff9f9f",
   "metadata": {},
   "outputs": [],
   "source": [
    "Delegation is a design pattern that allows an object to delegate the responsibility of performing a task to another object. This can be useful when an object does not need to know the details of how a task is performed, or when it wants to defer responsibility to a more specialized object."
   ]
  },
  {
   "cell_type": "code",
   "execution_count": null,
   "id": "05c4bf74",
   "metadata": {},
   "outputs": [],
   "source": []
  },
  {
   "cell_type": "code",
   "execution_count": null,
   "id": "14fdb58b",
   "metadata": {},
   "outputs": [],
   "source": [
    "Q3. What is the concept of composition?\n"
   ]
  },
  {
   "cell_type": "code",
   "execution_count": null,
   "id": "7c29f571",
   "metadata": {},
   "outputs": [],
   "source": [
    "Composition is a design pattern that allows an object to be composed of other objects. This means that an object can contain references to other objects, and can delegate to those objects to perform tasks."
   ]
  },
  {
   "cell_type": "code",
   "execution_count": null,
   "id": "ccb10868",
   "metadata": {},
   "outputs": [],
   "source": [
    "Q4. What are bound methods and how do we use them?\n"
   ]
  },
  {
   "cell_type": "code",
   "execution_count": null,
   "id": "d50d9b08",
   "metadata": {},
   "outputs": [],
   "source": [
    "Bound methods are methods that are associated with a particular object. They are created when you call a method on an object, and they contain a reference to the object that they are associated with.\n",
    "\n",
    "Bound methods can be used to call methods on an object without having to explicitly pass the object as an argument. This can make your code more concise and easier to read."
   ]
  },
  {
   "cell_type": "code",
   "execution_count": null,
   "id": "208a6672",
   "metadata": {},
   "outputs": [],
   "source": []
  },
  {
   "cell_type": "code",
   "execution_count": null,
   "id": "9b98f3b5",
   "metadata": {},
   "outputs": [],
   "source": [
    "Q5. What is the purpose of pseudoprivate attributes?"
   ]
  },
  {
   "cell_type": "code",
   "execution_count": null,
   "id": "b44d2d49",
   "metadata": {},
   "outputs": [],
   "source": [
    "Pseudoprivate attributes are attributes that are prefixed with an underscore (_). These attributes are not truly private, but they are not accessible from outside the class unless they are explicitly imported.\n",
    "\n",
    "Pseudoprivate attributes are used to prevent accidental access to attributes that should not be accessed from outside the class. They can also be used to hide implementation details from users of the class."
   ]
  },
  {
   "cell_type": "code",
   "execution_count": null,
   "id": "ddb27b7a",
   "metadata": {},
   "outputs": [],
   "source": []
  },
  {
   "cell_type": "code",
   "execution_count": null,
   "id": "c61cf808",
   "metadata": {},
   "outputs": [],
   "source": []
  },
  {
   "cell_type": "code",
   "execution_count": null,
   "id": "9195cdf5",
   "metadata": {},
   "outputs": [],
   "source": []
  },
  {
   "cell_type": "code",
   "execution_count": null,
   "id": "86546a8d",
   "metadata": {},
   "outputs": [],
   "source": []
  },
  {
   "cell_type": "code",
   "execution_count": null,
   "id": "29de01f4",
   "metadata": {},
   "outputs": [],
   "source": []
  },
  {
   "cell_type": "code",
   "execution_count": null,
   "id": "5aaf84b9",
   "metadata": {},
   "outputs": [],
   "source": []
  },
  {
   "cell_type": "code",
   "execution_count": null,
   "id": "8183ecc8",
   "metadata": {},
   "outputs": [],
   "source": []
  },
  {
   "cell_type": "code",
   "execution_count": null,
   "id": "66767d85",
   "metadata": {},
   "outputs": [],
   "source": []
  }
 ],
 "metadata": {
  "kernelspec": {
   "display_name": "Python 3 (ipykernel)",
   "language": "python",
   "name": "python3"
  },
  "language_info": {
   "codemirror_mode": {
    "name": "ipython",
    "version": 3
   },
   "file_extension": ".py",
   "mimetype": "text/x-python",
   "name": "python",
   "nbconvert_exporter": "python",
   "pygments_lexer": "ipython3",
   "version": "3.10.9"
  }
 },
 "nbformat": 4,
 "nbformat_minor": 5
}
